{
 "cells": [
  {
   "cell_type": "markdown",
   "id": "b0fae3ae-0639-492c-afc2-0b4e8eee66b1",
   "metadata": {},
   "source": [
    "# Integração e Uso dos Sistemas \"em Produção\"\n",
    "\n",
    "O objetivo deste *notebook* é documentar a utilização dos sistemas criados por meio de uma *Command Line Interface* criada no projeto. Com isso, tem-se a simulação de como o sistema seria fornecido para uso em ambiente de produção ambiente de produção.\n",
    "\n",
    "## Bibliotecas e Configurações\n",
    "\n",
    "Dada a proposta de registrar o uso de uma CLI, o uso dela é auto-contido e minimiza a necessidade de importação de módulos do Python. A única exceção é o uso de uma biblioteca para fazer a representação de dicionários como JSON. Essa exceção serve apenas como forma de a serialização do conteúdo e enviá-lo para a CLI."
   ]
  },
  {
   "cell_type": "code",
   "execution_count": 1,
   "id": "4e747752-81d1-4267-8798-df3b7b564967",
   "metadata": {},
   "outputs": [],
   "source": [
    "import json\n",
    "\n",
    "\n",
    "PYTHON_PATH = 'cd ..;../virtual_envs/teste_HT/bin/python '"
   ]
  },
  {
   "cell_type": "markdown",
   "id": "3681c064-238e-489b-bb52-ef924bb87e47",
   "metadata": {},
   "source": [
    "## Uso dos Módulos\n",
    "\n",
    "### Classificação de Categorias\n",
    "\n",
    "Os exemplos foram retirados dos primeiros itens que foram apresentados no [site](https://elo7.com) a partir da seleção da categoria. Para evitar um conteúdo excessivamente longo, apenas as primeiras *tags* dos produtos foram utilizadas."
   ]
  },
  {
   "cell_type": "code",
   "execution_count": 2,
   "id": "09f1ecea-7630-4ba0-94b3-3e87f4228feb",
   "metadata": {},
   "outputs": [
    {
     "name": "stdout",
     "output_type": "stream",
     "text": [
      "Test case 1: {'title': 'CARIMBO LOGOMARCA', 'concatenated_tags': 'carimbo escola scrapbook decoupage carimbo para scrapbook carimbo incentivo', 'price': 30}\n",
      "\n",
      "Output: Papel e Cia\n",
      "\n",
      "--------------------------------------------------\n",
      "\n",
      "Test case 2: {'title': 'Caneca Personalizada Madrinha/Padrinho', 'concatenated_tags': 'caneca coruja caneca brinde caneca aniversário caneca personagens caneca infantil caneca dia dos namorados', 'price': 9.7}\n",
      "\n",
      "Output: Lembrancinhas\n",
      "\n",
      "--------------------------------------------------\n",
      "\n",
      "Test case 3: {'title': 'Pelego Fake Branco', 'concatenated_tags': 'pelego pelego fake pelucia cadeira rose rosa milenium decor decoracao home office escritorio', 'price': 39.9}\n",
      "\n",
      "Output: Decoração\n",
      "\n",
      "--------------------------------------------------\n",
      "\n",
      "Test case 4: {'title': 'Kit Pulseiras Now United', 'concatenated_tags': 'bijuterias bijuterias folheadas bijuterias delicadas bijus pulseira pulseira com pingentes pulseira delicada ', 'price': 19.7}\n",
      "\n",
      "Output: Bijuterias e Jóias\n",
      "\n",
      "--------------------------------------------------\n",
      "\n",
      "Test case 5: {'title': 'Wrap sling de algodão', 'concatenated_tags': 'comprar wrap sling carregador de bebê canguru 100% algodão', 'price': 58.9}\n",
      "\n",
      "Output: Bebê\n",
      "\n",
      "--------------------------------------------------\n",
      "\n",
      "Test case 6: {'title': 'Sapateira Multiuso de Madeira P/ Porta Sala Quarto', 'concatenated_tags': 'madeira sapatos sapateira porta sapatos tenis sapateira de sapateira de madeira multiuso de madeira pinus estante', 'price': 64.99}\n",
      "\n",
      "Output: Decoração\n",
      "\n",
      "--------------------------------------------------\n",
      "\n"
     ]
    }
   ],
   "source": [
    "category_classification_tests = [\n",
    "    {\"title\":\"CARIMBO LOGOMARCA\", \n",
    "     \"concatenated_tags\": \"carimbo escola scrapbook decoupage carimbo para scrapbook carimbo incentivo\", \n",
    "     \"price\": 30},\n",
    "\n",
    "    {\"title\":\"Caneca Personalizada Madrinha/Padrinho\", \n",
    "     \"concatenated_tags\": \"caneca coruja caneca brinde caneca aniversário caneca personagens caneca infantil caneca dia dos namorados\", \n",
    "     \"price\": 9.70},\n",
    "\n",
    "    {\"title\":\"Pelego Fake Branco\", \n",
    "     \"concatenated_tags\": \"pelego pelego fake pelucia cadeira rose rosa milenium decor decoracao home office escritorio\", \n",
    "     \"price\": 39.90},\n",
    "\n",
    "    {\"title\":\"Kit Pulseiras Now United\", \n",
    "     \"concatenated_tags\": \"bijuterias bijuterias folheadas bijuterias delicadas bijus pulseira pulseira com pingentes pulseira delicada \", \n",
    "     \"price\": 19.70},\n",
    "\n",
    "    {\"title\":\"Wrap sling de algodão\", \n",
    "     \"concatenated_tags\": \"comprar wrap sling carregador de bebê canguru 100% algodão\", \n",
    "     \"price\": 58.90},\n",
    "\n",
    "    {\"title\":\"Sapateira Multiuso de Madeira P/ Porta Sala Quarto\", \n",
    "     \"concatenated_tags\": \"madeira sapatos sapateira porta sapatos tenis sapateira de sapateira de madeira multiuso de madeira pinus estante\", \n",
    "     \"price\": 64.99},\n",
    "]\n",
    "\n",
    "for ix, test_case in enumerate(category_classification_tests):\n",
    "    print(f'Test case {ix + 1}: {test_case}\\n')\n",
    "    # Send the test case content as a parameter for the CLI and store the result\n",
    "    cli_outputs = !{PYTHON_PATH} cli/teste_ds.py --category {\"\\'\" + json.dumps(test_case) + \"\\'\"}\n",
    "    # Show only the last printed output to suppress system messages and show a clean reponse\n",
    "    print(f'Output: {cli_outputs[-1]}\\n\\n{\"-\" * 50}\\n')"
   ]
  },
  {
   "cell_type": "markdown",
   "id": "257b85d4-30f8-485b-8b69-a398b55c73ef",
   "metadata": {},
   "source": [
    "### Intenção de Busca\n",
    "\n",
    "Para as intenções de busca, apenas uma sentença simples pode ser definida como entrada.  Para os exemplos, foram consideradas buscas que permitissem obter produtos específicos disponíveis no [Elo7](http://elo7.com.br) ou que tivessem uma tendência a trazer resultados de um escopo amplo."
   ]
  },
  {
   "cell_type": "code",
   "execution_count": 3,
   "id": "ab21d8cb-adc8-490e-a3e4-d6bc5420f551",
   "metadata": {},
   "outputs": [
    {
     "name": "stdout",
     "output_type": "stream",
     "text": [
      "Test case 1: máscara de tecido tripla camada padrão oms\n",
      "\n",
      "Output: Foco\n",
      "\n",
      "--------------------------------------------------\n",
      "\n",
      "Test case 2: presente de aniversário\n",
      "\n",
      "Output: Exploração\n",
      "\n",
      "--------------------------------------------------\n",
      "\n",
      "Test case 3: caneca personalizada de star wars\n",
      "\n",
      "Output: Foco\n",
      "\n",
      "--------------------------------------------------\n",
      "\n",
      "Test case 4: lembrancinha\n",
      "\n",
      "Output: Exploração\n",
      "\n",
      "--------------------------------------------------\n",
      "\n",
      "Test case 5: peças de decoração\n",
      "\n",
      "Output: Exploração\n",
      "\n",
      "--------------------------------------------------\n",
      "\n",
      "Test case 6: papel fotográfico glossy folha a4\n",
      "\n",
      "Output: Exploração\n",
      "\n",
      "--------------------------------------------------\n",
      "\n"
     ]
    }
   ],
   "source": [
    "query_intent_classification_tests = [\n",
    "    'máscara de tecido tripla camada padrão oms',\n",
    "    'presente de aniversário',\n",
    "    'caneca personalizada de star wars',\n",
    "    'lembrancinha',\n",
    "    'peças de decoração',\n",
    "    'papel fotográfico glossy folha a4',\n",
    "]\n",
    "\n",
    "for ix, test_case in enumerate(query_intent_classification_tests):\n",
    "    print(f'Test case {ix + 1}: {test_case}\\n')\n",
    "    # Send the test case content as a parameter for the CLI and store the result\n",
    "    cli_outputs = !{PYTHON_PATH} cli/teste_ds.py --intent {\"\\'\" + test_case + \"\\'\"}\n",
    "    # Show only the last printed output to suppress system messages and show a clean reponse\n",
    "    print(f'Output: {cli_outputs[-1]}\\n\\n{\"-\" * 50}\\n')"
   ]
  },
  {
   "cell_type": "markdown",
   "id": "69ce0ef7-9e6c-4ad7-ac0b-913152a5f506",
   "metadata": {},
   "source": [
    "## Recommendação de Produtos (Colaboração de Sistemas)\n",
    "\n",
    "A recomendação de produtos envolve a aplicação dos modelos de classificação de produtos em categorias, classificação de itenções e recomendação, com a filtragem e ordenação a partir do conteúdo. Apesar do uso de todos esses recursos criados, apenas uma sentença de busca é fornecida como entrada. Assim como ocorreu anteriormente, tentou-se definir ao menos um exemplo de buscas com escopo restrito e amplo, para avaliar os resultados."
   ]
  },
  {
   "cell_type": "code",
   "execution_count": 4,
   "id": "9c0804ad-cfcf-4558-a11e-c4802e956288",
   "metadata": {},
   "outputs": [
    {
     "name": "stdout",
     "output_type": "stream",
     "text": [
      "Test case 1: presente de casamento\n",
      "\n",
      "Output:\n",
      " - Product ID: 611144 | Title: Presente aniversário de namoro casamento dia dos namorados\n",
      " - Product ID: 13420758 | Title: Presente Criativo Personalizado Amor Pedido De Casamento\n",
      " - Product ID: 16461655 | Title: Presente Criativo Personalizado Casamento Bodas De Madeira\n",
      " - Product ID: 6144693 | Title: Quadro Presente 1 ano de namoro\n",
      " - Product ID: 10843710 | Title: Aluguel Decoração de Casamento Vermelho\n",
      " - Product ID: 16481858 | Title: Almofada Tempo de namoro presente personalizada\n",
      " - Product ID: 6828779 | Title: Presente Aniversário De Namoro Almofada Personalizada\n",
      " - Product ID: 137027 | Title: Quadro Chalkboard Festa Casamento\n",
      " - Product ID: 11991687 | Title: Caricatura digital de namorados-Tema casamento antural\n",
      " - Product ID: 11913046 | Title: Quadro aniversário de namoro ou casamento\n",
      "\n",
      "--------------------------------------------------\n",
      "\n",
      "Test case 2: lembrancinha de chá de bebê\n",
      "\n",
      "Output:\n",
      " - Product ID: 8295646 | Title: Lembrancinha de chá de bebê\n",
      " - Product ID: 11832607 | Title: Lembrancinha Chá de Bebê\n",
      " - Product ID: 15661963 | Title: Latinhas de Lembrancinhas Chá de Bebê\n",
      " - Product ID: 12769565 | Title: lembrancinha chá de bebê de elefantinho\n",
      " - Product ID: 10657689 | Title: Lembrancinha Chá de Bebê\n",
      " - Product ID: 5795302 | Title: Lembrancinha chá de bebê\n",
      " - Product ID: 6783974 | Title: Lembrancinhas de chá de bebê\n",
      " - Product ID: 13453340 | Title: Latinhas de Lembrancinhas Chá de Bebê\n",
      " - Product ID: 10236474 | Title: lembrancinha chá de bebê de elefantinho\n",
      " - Product ID: 2297157 | Title: Lembrancinha chá de bebê\n",
      "\n",
      "--------------------------------------------------\n",
      "\n",
      "Test case 3: papel fotográfico glossy folha A4\n",
      "\n",
      "Output:\n",
      " - Product ID: 2898154 | Title: Saco Papel Kraft Estampa Mickey - 18x30x11\n",
      " - Product ID: 3946765 | Title: Saco Papel Kraft Estampa Caveira - 18x30x11\n",
      " - Product ID: 11655249 | Title: Recorte em papel - Estrela\n",
      " - Product ID: 5519642 | Title: Saco Papel Kraft Estampa Gratidão - 18x30x11\n",
      " - Product ID: 4639262 | Title: Folha Papel semente A4\n",
      " - Product ID: 14229551 | Title: Sacola kraft media c/ papel rendado\n",
      " - Product ID: 15668860 | Title: Caderno Kraft A5\n",
      " - Product ID: 13937695 | Title: Sketchbook A5 Porta-Caneta 100 folhas Sem Pauta\n",
      " - Product ID: 16433367 | Title: Capa Caderno Argolado Fichário A4\n",
      " - Product ID: 10047244 | Title: Kit Papeis Digitais Scrapbook Glitter REF002\n",
      "\n",
      "--------------------------------------------------\n",
      "\n"
     ]
    }
   ],
   "source": [
    "queries_tests = [\n",
    "    'presente de casamento',\n",
    "    'lembrancinha de chá de bebê',\n",
    "    'papel fotográfico glossy folha A4'\n",
    "]\n",
    "\n",
    "for ix, test_case in enumerate(queries_tests):\n",
    "    print(f'Test case {ix + 1}: {test_case}\\n')\n",
    "    # Send the test case content as a parameter for the CLI and store the result\n",
    "    cli_outputs = !{PYTHON_PATH} cli/teste_ds.py --recommendation {\"\\'\" + test_case + \"\\'\"}\n",
    "    # Show only the last printed output to suppress system messages and show a clean reponse\n",
    "    formatted_output = '\\n'.join(cli_outputs[-10:])\n",
    "    print(f'Output:\\n{formatted_output}\\n\\n{\"-\" * 50}\\n')"
   ]
  }
 ],
 "metadata": {
  "kernelspec": {
   "display_name": "Python 3",
   "language": "python",
   "name": "python3"
  },
  "language_info": {
   "codemirror_mode": {
    "name": "ipython",
    "version": 3
   },
   "file_extension": ".py",
   "mimetype": "text/x-python",
   "name": "python",
   "nbconvert_exporter": "python",
   "pygments_lexer": "ipython3",
   "version": "3.8.5"
  }
 },
 "nbformat": 4,
 "nbformat_minor": 5
}
