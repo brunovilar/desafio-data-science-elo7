{
 "cells": [
  {
   "cell_type": "markdown",
   "id": "b0fae3ae-0639-492c-afc2-0b4e8eee66b1",
   "metadata": {},
   "source": [
    "# Integração e Uso dos Sistemas \"em Produção\"\n",
    "\n",
    "O objetivo deste *notebook* é documentar a utilização dos sistemas criados por meio de uma *Command Line Interface* criada no projeto. Com isso, tem-se a simulação de como o sistema seria fornecido para uso em ambiente de produção ambiente de produção.\n",
    "\n",
    "## Bibliotecas e Configurações\n",
    "\n",
    "Dada a proposta de registrar o uso de uma CLI, o uso dela é auto-contido e minimiza a necessidade de importação de módulos do Python. A única exceção é o uso de uma biblioteca para fazer a representação de dicionários como JSON. Essa exceção serve apenas como forma de a serialização do conteúdo e enviá-lo para a CLI."
   ]
  },
  {
   "cell_type": "code",
   "execution_count": 1,
   "id": "8ab0a2b3-3bb3-4d60-afd9-0b5f3cb0d8cc",
   "metadata": {},
   "outputs": [],
   "source": [
    "import json\n",
    "from IPython.core.display import HTML, display\n",
    "\n",
    "PYTHON_PATH = 'cd ..;../virtual_envs/teste_HT/bin/python '\n",
    "\n",
    "COLOR_RESULT = '#5499c7'\n",
    "COLOR_COMMAND = '#bb8fce'\n",
    "\n",
    "TEXT_RESULT = 'Resultado'\n",
    "TEXT_COMMAND = 'Comando'\n",
    "\n",
    "BASE_STYLE = '''\n",
    "    width:100%;\n",
    "    padding:10px 10px 10px 10px;\n",
    "    text-align:left;\n",
    "    background-color:{color};\n",
    "    font-family: Courier New,Courier,Lucida Sans Typewriter,Lucida Typewriter,monospace;\n",
    "'''\n",
    "\n",
    "def format_output(content: str, title: str, color: str='#ccd1d1') -> None:\n",
    "    style = BASE_STYLE.format(color=color)\n",
    "    display(HTML(f'''\n",
    "        <span style=\"color:{color};font-weight:bold\">{title}</span>\n",
    "        <div style=\"{style}\">{content}</div>'''))"
   ]
  },
  {
   "cell_type": "markdown",
   "id": "3681c064-238e-489b-bb52-ef924bb87e47",
   "metadata": {},
   "source": [
    "## Uso dos Módulos\n",
    "\n",
    "### Classificação de Categorias\n",
    "\n",
    "Os exemplos foram retirados dos primeiros itens que foram apresentados no [site](https://elo7.com) a partir da seleção da categoria. Para evitar um conteúdo excessivamente longo, apenas as primeiras *tags* dos produtos foram utilizadas."
   ]
  },
  {
   "cell_type": "code",
   "execution_count": 2,
   "id": "09f1ecea-7630-4ba0-94b3-3e87f4228feb",
   "metadata": {},
   "outputs": [
    {
     "data": {
      "text/html": [
       "<br /><h4>Test Case 1</h4>"
      ],
      "text/plain": [
       "<IPython.core.display.HTML object>"
      ]
     },
     "metadata": {},
     "output_type": "display_data"
    },
    {
     "data": {
      "text/html": [
       "\n",
       "        <span style=\"color:#bb8fce;font-weight:bold\">Comando</span>\n",
       "        <div style=\"\n",
       "    width:100%;\n",
       "    padding:10px 10px 10px 10px;\n",
       "    text-align:left;\n",
       "    background-color:#bb8fce;\n",
       "    font-family: Courier New,Courier,Lucida Sans Typewriter,Lucida Typewriter,monospace;\n",
       "\">python cli/teste_ds.py --category '{\"title\": \"CARIMBO LOGOMARCA\", \"concatenated_tags\": \"carimbo escola scrapbook decoupage carimbo para scrapbook carimbo incentivo\", \"price\": 30}'</div>"
      ],
      "text/plain": [
       "<IPython.core.display.HTML object>"
      ]
     },
     "metadata": {},
     "output_type": "display_data"
    },
    {
     "data": {
      "text/html": [
       "\n",
       "        <span style=\"color:#5499c7;font-weight:bold\">Resultado</span>\n",
       "        <div style=\"\n",
       "    width:100%;\n",
       "    padding:10px 10px 10px 10px;\n",
       "    text-align:left;\n",
       "    background-color:#5499c7;\n",
       "    font-family: Courier New,Courier,Lucida Sans Typewriter,Lucida Typewriter,monospace;\n",
       "\">Papel e Cia</div>"
      ],
      "text/plain": [
       "<IPython.core.display.HTML object>"
      ]
     },
     "metadata": {},
     "output_type": "display_data"
    },
    {
     "data": {
      "text/html": [
       "<br /><h4>Test Case 2</h4>"
      ],
      "text/plain": [
       "<IPython.core.display.HTML object>"
      ]
     },
     "metadata": {},
     "output_type": "display_data"
    },
    {
     "data": {
      "text/html": [
       "\n",
       "        <span style=\"color:#bb8fce;font-weight:bold\">Comando</span>\n",
       "        <div style=\"\n",
       "    width:100%;\n",
       "    padding:10px 10px 10px 10px;\n",
       "    text-align:left;\n",
       "    background-color:#bb8fce;\n",
       "    font-family: Courier New,Courier,Lucida Sans Typewriter,Lucida Typewriter,monospace;\n",
       "\">python cli/teste_ds.py --category '{\"title\": \"Caneca Personalizada Madrinha/Padrinho\", \"concatenated_tags\": \"caneca coruja caneca brinde caneca anivers\\u00e1rio caneca personagens caneca infantil caneca dia dos namorados\", \"price\": 9.7}'</div>"
      ],
      "text/plain": [
       "<IPython.core.display.HTML object>"
      ]
     },
     "metadata": {},
     "output_type": "display_data"
    },
    {
     "data": {
      "text/html": [
       "\n",
       "        <span style=\"color:#5499c7;font-weight:bold\">Resultado</span>\n",
       "        <div style=\"\n",
       "    width:100%;\n",
       "    padding:10px 10px 10px 10px;\n",
       "    text-align:left;\n",
       "    background-color:#5499c7;\n",
       "    font-family: Courier New,Courier,Lucida Sans Typewriter,Lucida Typewriter,monospace;\n",
       "\">Lembrancinhas</div>"
      ],
      "text/plain": [
       "<IPython.core.display.HTML object>"
      ]
     },
     "metadata": {},
     "output_type": "display_data"
    },
    {
     "data": {
      "text/html": [
       "<br /><h4>Test Case 3</h4>"
      ],
      "text/plain": [
       "<IPython.core.display.HTML object>"
      ]
     },
     "metadata": {},
     "output_type": "display_data"
    },
    {
     "data": {
      "text/html": [
       "\n",
       "        <span style=\"color:#bb8fce;font-weight:bold\">Comando</span>\n",
       "        <div style=\"\n",
       "    width:100%;\n",
       "    padding:10px 10px 10px 10px;\n",
       "    text-align:left;\n",
       "    background-color:#bb8fce;\n",
       "    font-family: Courier New,Courier,Lucida Sans Typewriter,Lucida Typewriter,monospace;\n",
       "\">python cli/teste_ds.py --category '{\"title\": \"Pelego Fake Branco\", \"concatenated_tags\": \"pelego pelego fake pelucia cadeira rose rosa milenium decor decoracao home office escritorio\", \"price\": 39.9}'</div>"
      ],
      "text/plain": [
       "<IPython.core.display.HTML object>"
      ]
     },
     "metadata": {},
     "output_type": "display_data"
    },
    {
     "data": {
      "text/html": [
       "\n",
       "        <span style=\"color:#5499c7;font-weight:bold\">Resultado</span>\n",
       "        <div style=\"\n",
       "    width:100%;\n",
       "    padding:10px 10px 10px 10px;\n",
       "    text-align:left;\n",
       "    background-color:#5499c7;\n",
       "    font-family: Courier New,Courier,Lucida Sans Typewriter,Lucida Typewriter,monospace;\n",
       "\">Decoração</div>"
      ],
      "text/plain": [
       "<IPython.core.display.HTML object>"
      ]
     },
     "metadata": {},
     "output_type": "display_data"
    },
    {
     "data": {
      "text/html": [
       "<br /><h4>Test Case 4</h4>"
      ],
      "text/plain": [
       "<IPython.core.display.HTML object>"
      ]
     },
     "metadata": {},
     "output_type": "display_data"
    },
    {
     "data": {
      "text/html": [
       "\n",
       "        <span style=\"color:#bb8fce;font-weight:bold\">Comando</span>\n",
       "        <div style=\"\n",
       "    width:100%;\n",
       "    padding:10px 10px 10px 10px;\n",
       "    text-align:left;\n",
       "    background-color:#bb8fce;\n",
       "    font-family: Courier New,Courier,Lucida Sans Typewriter,Lucida Typewriter,monospace;\n",
       "\">python cli/teste_ds.py --category '{\"title\": \"Kit Pulseiras Now United\", \"concatenated_tags\": \"bijuterias bijuterias folheadas bijuterias delicadas bijus pulseira pulseira com pingentes pulseira delicada \", \"price\": 19.7}'</div>"
      ],
      "text/plain": [
       "<IPython.core.display.HTML object>"
      ]
     },
     "metadata": {},
     "output_type": "display_data"
    },
    {
     "data": {
      "text/html": [
       "\n",
       "        <span style=\"color:#5499c7;font-weight:bold\">Resultado</span>\n",
       "        <div style=\"\n",
       "    width:100%;\n",
       "    padding:10px 10px 10px 10px;\n",
       "    text-align:left;\n",
       "    background-color:#5499c7;\n",
       "    font-family: Courier New,Courier,Lucida Sans Typewriter,Lucida Typewriter,monospace;\n",
       "\">Bijuterias e Jóias</div>"
      ],
      "text/plain": [
       "<IPython.core.display.HTML object>"
      ]
     },
     "metadata": {},
     "output_type": "display_data"
    },
    {
     "data": {
      "text/html": [
       "<br /><h4>Test Case 5</h4>"
      ],
      "text/plain": [
       "<IPython.core.display.HTML object>"
      ]
     },
     "metadata": {},
     "output_type": "display_data"
    },
    {
     "data": {
      "text/html": [
       "\n",
       "        <span style=\"color:#bb8fce;font-weight:bold\">Comando</span>\n",
       "        <div style=\"\n",
       "    width:100%;\n",
       "    padding:10px 10px 10px 10px;\n",
       "    text-align:left;\n",
       "    background-color:#bb8fce;\n",
       "    font-family: Courier New,Courier,Lucida Sans Typewriter,Lucida Typewriter,monospace;\n",
       "\">python cli/teste_ds.py --category '{\"title\": \"Wrap sling de algod\\u00e3o\", \"concatenated_tags\": \"comprar wrap sling carregador de beb\\u00ea canguru 100% algod\\u00e3o\", \"price\": 58.9}'</div>"
      ],
      "text/plain": [
       "<IPython.core.display.HTML object>"
      ]
     },
     "metadata": {},
     "output_type": "display_data"
    },
    {
     "data": {
      "text/html": [
       "\n",
       "        <span style=\"color:#5499c7;font-weight:bold\">Resultado</span>\n",
       "        <div style=\"\n",
       "    width:100%;\n",
       "    padding:10px 10px 10px 10px;\n",
       "    text-align:left;\n",
       "    background-color:#5499c7;\n",
       "    font-family: Courier New,Courier,Lucida Sans Typewriter,Lucida Typewriter,monospace;\n",
       "\">Bebê</div>"
      ],
      "text/plain": [
       "<IPython.core.display.HTML object>"
      ]
     },
     "metadata": {},
     "output_type": "display_data"
    },
    {
     "data": {
      "text/html": [
       "<br /><h4>Test Case 6</h4>"
      ],
      "text/plain": [
       "<IPython.core.display.HTML object>"
      ]
     },
     "metadata": {},
     "output_type": "display_data"
    },
    {
     "data": {
      "text/html": [
       "\n",
       "        <span style=\"color:#bb8fce;font-weight:bold\">Comando</span>\n",
       "        <div style=\"\n",
       "    width:100%;\n",
       "    padding:10px 10px 10px 10px;\n",
       "    text-align:left;\n",
       "    background-color:#bb8fce;\n",
       "    font-family: Courier New,Courier,Lucida Sans Typewriter,Lucida Typewriter,monospace;\n",
       "\">python cli/teste_ds.py --category '{\"title\": \"Sapateira Multiuso de Madeira P/ Porta Sala Quarto\", \"concatenated_tags\": \"madeira sapatos sapateira porta sapatos tenis sapateira de sapateira de madeira multiuso de madeira pinus estante\", \"price\": 64.99}'</div>"
      ],
      "text/plain": [
       "<IPython.core.display.HTML object>"
      ]
     },
     "metadata": {},
     "output_type": "display_data"
    },
    {
     "data": {
      "text/html": [
       "\n",
       "        <span style=\"color:#5499c7;font-weight:bold\">Resultado</span>\n",
       "        <div style=\"\n",
       "    width:100%;\n",
       "    padding:10px 10px 10px 10px;\n",
       "    text-align:left;\n",
       "    background-color:#5499c7;\n",
       "    font-family: Courier New,Courier,Lucida Sans Typewriter,Lucida Typewriter,monospace;\n",
       "\">Decoração</div>"
      ],
      "text/plain": [
       "<IPython.core.display.HTML object>"
      ]
     },
     "metadata": {},
     "output_type": "display_data"
    }
   ],
   "source": [
    "category_classification_tests = [\n",
    "    {\"title\":\"CARIMBO LOGOMARCA\", \n",
    "     \"concatenated_tags\": \"carimbo escola scrapbook decoupage carimbo para scrapbook carimbo incentivo\", \n",
    "     \"price\": 30},\n",
    "\n",
    "    {\"title\":\"Caneca Personalizada Madrinha/Padrinho\", \n",
    "     \"concatenated_tags\": \"caneca coruja caneca brinde caneca aniversário caneca personagens caneca infantil caneca dia dos namorados\", \n",
    "     \"price\": 9.70},\n",
    "\n",
    "    {\"title\":\"Pelego Fake Branco\", \n",
    "     \"concatenated_tags\": \"pelego pelego fake pelucia cadeira rose rosa milenium decor decoracao home office escritorio\", \n",
    "     \"price\": 39.90},\n",
    "\n",
    "    {\"title\":\"Kit Pulseiras Now United\", \n",
    "     \"concatenated_tags\": \"bijuterias bijuterias folheadas bijuterias delicadas bijus pulseira pulseira com pingentes pulseira delicada \", \n",
    "     \"price\": 19.70},\n",
    "\n",
    "    {\"title\":\"Wrap sling de algodão\", \n",
    "     \"concatenated_tags\": \"comprar wrap sling carregador de bebê canguru 100% algodão\", \n",
    "     \"price\": 58.90},\n",
    "\n",
    "    {\"title\":\"Sapateira Multiuso de Madeira P/ Porta Sala Quarto\", \n",
    "     \"concatenated_tags\": \"madeira sapatos sapateira porta sapatos tenis sapateira de sapateira de madeira multiuso de madeira pinus estante\", \n",
    "     \"price\": 64.99},\n",
    "]\n",
    "\n",
    "for ix, test_case in enumerate(category_classification_tests):\n",
    "    \n",
    "    display(HTML(f'<br /><h4>Test Case {ix + 1}</h4>'))\n",
    "    \n",
    "    command = f'python cli/teste_ds.py --category \\'{json.dumps(test_case)}\\''\n",
    "    format_output(command, TEXT_COMMAND, COLOR_COMMAND)\n",
    "\n",
    "    # Send the test case content as a parameter for the CLI and store the result\n",
    "    cli_outputs = !{PYTHON_PATH} cli/teste_ds.py --category {\"\\'\" + json.dumps(test_case) + \"\\'\"}\n",
    "\n",
    "    # Show only the last printed output to suppress system messages and show a clean reponse\n",
    "    format_output(cli_outputs[-1], TEXT_RESULT, COLOR_RESULT)"
   ]
  },
  {
   "cell_type": "markdown",
   "id": "257b85d4-30f8-485b-8b69-a398b55c73ef",
   "metadata": {},
   "source": [
    "### Intenção de Busca\n",
    "\n",
    "Para as intenções de busca, apenas uma sentença simples pode ser definida como entrada.  Para os exemplos, foram consideradas buscas que permitissem obter produtos específicos disponíveis no [Elo7](http://elo7.com.br) ou que tivessem uma tendência a trazer resultados de um escopo amplo."
   ]
  },
  {
   "cell_type": "code",
   "execution_count": 3,
   "id": "ab21d8cb-adc8-490e-a3e4-d6bc5420f551",
   "metadata": {},
   "outputs": [
    {
     "data": {
      "text/html": [
       "<br /><h4>Test Case 1</h4>"
      ],
      "text/plain": [
       "<IPython.core.display.HTML object>"
      ]
     },
     "metadata": {},
     "output_type": "display_data"
    },
    {
     "data": {
      "text/html": [
       "\n",
       "        <span style=\"color:#bb8fce;font-weight:bold\">Comando</span>\n",
       "        <div style=\"\n",
       "    width:100%;\n",
       "    padding:10px 10px 10px 10px;\n",
       "    text-align:left;\n",
       "    background-color:#bb8fce;\n",
       "    font-family: Courier New,Courier,Lucida Sans Typewriter,Lucida Typewriter,monospace;\n",
       "\">python cli/teste_ds.py --intent 'máscara de tecido tripla camada padrão oms'  \n",
       "</div>"
      ],
      "text/plain": [
       "<IPython.core.display.HTML object>"
      ]
     },
     "metadata": {},
     "output_type": "display_data"
    },
    {
     "data": {
      "text/html": [
       "\n",
       "        <span style=\"color:#5499c7;font-weight:bold\">Resultado</span>\n",
       "        <div style=\"\n",
       "    width:100%;\n",
       "    padding:10px 10px 10px 10px;\n",
       "    text-align:left;\n",
       "    background-color:#5499c7;\n",
       "    font-family: Courier New,Courier,Lucida Sans Typewriter,Lucida Typewriter,monospace;\n",
       "\">Foco</div>"
      ],
      "text/plain": [
       "<IPython.core.display.HTML object>"
      ]
     },
     "metadata": {},
     "output_type": "display_data"
    },
    {
     "data": {
      "text/html": [
       "<br /><h4>Test Case 2</h4>"
      ],
      "text/plain": [
       "<IPython.core.display.HTML object>"
      ]
     },
     "metadata": {},
     "output_type": "display_data"
    },
    {
     "data": {
      "text/html": [
       "\n",
       "        <span style=\"color:#bb8fce;font-weight:bold\">Comando</span>\n",
       "        <div style=\"\n",
       "    width:100%;\n",
       "    padding:10px 10px 10px 10px;\n",
       "    text-align:left;\n",
       "    background-color:#bb8fce;\n",
       "    font-family: Courier New,Courier,Lucida Sans Typewriter,Lucida Typewriter,monospace;\n",
       "\">python cli/teste_ds.py --intent 'presente de aniversário'  \n",
       "</div>"
      ],
      "text/plain": [
       "<IPython.core.display.HTML object>"
      ]
     },
     "metadata": {},
     "output_type": "display_data"
    },
    {
     "data": {
      "text/html": [
       "\n",
       "        <span style=\"color:#5499c7;font-weight:bold\">Resultado</span>\n",
       "        <div style=\"\n",
       "    width:100%;\n",
       "    padding:10px 10px 10px 10px;\n",
       "    text-align:left;\n",
       "    background-color:#5499c7;\n",
       "    font-family: Courier New,Courier,Lucida Sans Typewriter,Lucida Typewriter,monospace;\n",
       "\">Exploração</div>"
      ],
      "text/plain": [
       "<IPython.core.display.HTML object>"
      ]
     },
     "metadata": {},
     "output_type": "display_data"
    },
    {
     "data": {
      "text/html": [
       "<br /><h4>Test Case 3</h4>"
      ],
      "text/plain": [
       "<IPython.core.display.HTML object>"
      ]
     },
     "metadata": {},
     "output_type": "display_data"
    },
    {
     "data": {
      "text/html": [
       "\n",
       "        <span style=\"color:#bb8fce;font-weight:bold\">Comando</span>\n",
       "        <div style=\"\n",
       "    width:100%;\n",
       "    padding:10px 10px 10px 10px;\n",
       "    text-align:left;\n",
       "    background-color:#bb8fce;\n",
       "    font-family: Courier New,Courier,Lucida Sans Typewriter,Lucida Typewriter,monospace;\n",
       "\">python cli/teste_ds.py --intent 'caneca personalizada de star wars'  \n",
       "</div>"
      ],
      "text/plain": [
       "<IPython.core.display.HTML object>"
      ]
     },
     "metadata": {},
     "output_type": "display_data"
    },
    {
     "data": {
      "text/html": [
       "\n",
       "        <span style=\"color:#5499c7;font-weight:bold\">Resultado</span>\n",
       "        <div style=\"\n",
       "    width:100%;\n",
       "    padding:10px 10px 10px 10px;\n",
       "    text-align:left;\n",
       "    background-color:#5499c7;\n",
       "    font-family: Courier New,Courier,Lucida Sans Typewriter,Lucida Typewriter,monospace;\n",
       "\">Foco</div>"
      ],
      "text/plain": [
       "<IPython.core.display.HTML object>"
      ]
     },
     "metadata": {},
     "output_type": "display_data"
    },
    {
     "data": {
      "text/html": [
       "<br /><h4>Test Case 4</h4>"
      ],
      "text/plain": [
       "<IPython.core.display.HTML object>"
      ]
     },
     "metadata": {},
     "output_type": "display_data"
    },
    {
     "data": {
      "text/html": [
       "\n",
       "        <span style=\"color:#bb8fce;font-weight:bold\">Comando</span>\n",
       "        <div style=\"\n",
       "    width:100%;\n",
       "    padding:10px 10px 10px 10px;\n",
       "    text-align:left;\n",
       "    background-color:#bb8fce;\n",
       "    font-family: Courier New,Courier,Lucida Sans Typewriter,Lucida Typewriter,monospace;\n",
       "\">python cli/teste_ds.py --intent 'lembrancinha'  \n",
       "</div>"
      ],
      "text/plain": [
       "<IPython.core.display.HTML object>"
      ]
     },
     "metadata": {},
     "output_type": "display_data"
    },
    {
     "data": {
      "text/html": [
       "\n",
       "        <span style=\"color:#5499c7;font-weight:bold\">Resultado</span>\n",
       "        <div style=\"\n",
       "    width:100%;\n",
       "    padding:10px 10px 10px 10px;\n",
       "    text-align:left;\n",
       "    background-color:#5499c7;\n",
       "    font-family: Courier New,Courier,Lucida Sans Typewriter,Lucida Typewriter,monospace;\n",
       "\">Exploração</div>"
      ],
      "text/plain": [
       "<IPython.core.display.HTML object>"
      ]
     },
     "metadata": {},
     "output_type": "display_data"
    },
    {
     "data": {
      "text/html": [
       "<br /><h4>Test Case 5</h4>"
      ],
      "text/plain": [
       "<IPython.core.display.HTML object>"
      ]
     },
     "metadata": {},
     "output_type": "display_data"
    },
    {
     "data": {
      "text/html": [
       "\n",
       "        <span style=\"color:#bb8fce;font-weight:bold\">Comando</span>\n",
       "        <div style=\"\n",
       "    width:100%;\n",
       "    padding:10px 10px 10px 10px;\n",
       "    text-align:left;\n",
       "    background-color:#bb8fce;\n",
       "    font-family: Courier New,Courier,Lucida Sans Typewriter,Lucida Typewriter,monospace;\n",
       "\">python cli/teste_ds.py --intent 'peças de decoração'  \n",
       "</div>"
      ],
      "text/plain": [
       "<IPython.core.display.HTML object>"
      ]
     },
     "metadata": {},
     "output_type": "display_data"
    },
    {
     "data": {
      "text/html": [
       "\n",
       "        <span style=\"color:#5499c7;font-weight:bold\">Resultado</span>\n",
       "        <div style=\"\n",
       "    width:100%;\n",
       "    padding:10px 10px 10px 10px;\n",
       "    text-align:left;\n",
       "    background-color:#5499c7;\n",
       "    font-family: Courier New,Courier,Lucida Sans Typewriter,Lucida Typewriter,monospace;\n",
       "\">Exploração</div>"
      ],
      "text/plain": [
       "<IPython.core.display.HTML object>"
      ]
     },
     "metadata": {},
     "output_type": "display_data"
    },
    {
     "data": {
      "text/html": [
       "<br /><h4>Test Case 6</h4>"
      ],
      "text/plain": [
       "<IPython.core.display.HTML object>"
      ]
     },
     "metadata": {},
     "output_type": "display_data"
    },
    {
     "data": {
      "text/html": [
       "\n",
       "        <span style=\"color:#bb8fce;font-weight:bold\">Comando</span>\n",
       "        <div style=\"\n",
       "    width:100%;\n",
       "    padding:10px 10px 10px 10px;\n",
       "    text-align:left;\n",
       "    background-color:#bb8fce;\n",
       "    font-family: Courier New,Courier,Lucida Sans Typewriter,Lucida Typewriter,monospace;\n",
       "\">python cli/teste_ds.py --intent 'papel fotográfico glossy folha a4'  \n",
       "</div>"
      ],
      "text/plain": [
       "<IPython.core.display.HTML object>"
      ]
     },
     "metadata": {},
     "output_type": "display_data"
    },
    {
     "data": {
      "text/html": [
       "\n",
       "        <span style=\"color:#5499c7;font-weight:bold\">Resultado</span>\n",
       "        <div style=\"\n",
       "    width:100%;\n",
       "    padding:10px 10px 10px 10px;\n",
       "    text-align:left;\n",
       "    background-color:#5499c7;\n",
       "    font-family: Courier New,Courier,Lucida Sans Typewriter,Lucida Typewriter,monospace;\n",
       "\">Foco</div>"
      ],
      "text/plain": [
       "<IPython.core.display.HTML object>"
      ]
     },
     "metadata": {},
     "output_type": "display_data"
    }
   ],
   "source": [
    "query_intent_classification_tests = [\n",
    "    'máscara de tecido tripla camada padrão oms',\n",
    "    'presente de aniversário',\n",
    "    'caneca personalizada de star wars',\n",
    "    'lembrancinha',\n",
    "    'peças de decoração',\n",
    "    'papel fotográfico glossy folha a4',\n",
    "]\n",
    "\n",
    "for ix, test_case in enumerate(query_intent_classification_tests):\n",
    "\n",
    "    display(HTML(f'<br /><h4>Test Case {ix + 1}</h4>'))\n",
    "\n",
    "    command = f'python cli/teste_ds.py --intent \\'{test_case}\\'  \\n'\n",
    "    format_output(command, TEXT_COMMAND, COLOR_COMMAND)\n",
    "\n",
    "    # Send the test case content as a parameter for the CLI and store the result\n",
    "    cli_outputs = !{PYTHON_PATH} cli/teste_ds.py --intent {\"\\'\" + test_case + \"\\'\"}\n",
    "\n",
    "    # Show only the last printed output to suppress system messages and show a clean reponse\n",
    "    format_output(cli_outputs[-1], TEXT_RESULT, COLOR_RESULT)    "
   ]
  },
  {
   "cell_type": "markdown",
   "id": "69ce0ef7-9e6c-4ad7-ac0b-913152a5f506",
   "metadata": {},
   "source": [
    "## Recommendação de Produtos (Colaboração de Sistemas)\n",
    "\n",
    "A recomendação de produtos envolve a aplicação dos modelos de classificação de produtos em categorias, classificação de itenções e recomendação, com a filtragem e ordenação a partir do conteúdo. Apesar do uso de todos esses recursos criados, apenas uma sentença de busca é fornecida como entrada. Assim como ocorreu anteriormente, tentou-se definir ao menos um exemplo de buscas com escopo restrito e amplo, para avaliar os resultados."
   ]
  },
  {
   "cell_type": "code",
   "execution_count": 4,
   "id": "9c0804ad-cfcf-4558-a11e-c4802e956288",
   "metadata": {},
   "outputs": [
    {
     "data": {
      "text/html": [
       "<br /><h4>Test Case 1</h4>"
      ],
      "text/plain": [
       "<IPython.core.display.HTML object>"
      ]
     },
     "metadata": {},
     "output_type": "display_data"
    },
    {
     "data": {
      "text/html": [
       "\n",
       "        <span style=\"color:#bb8fce;font-weight:bold\">Comando</span>\n",
       "        <div style=\"\n",
       "    width:100%;\n",
       "    padding:10px 10px 10px 10px;\n",
       "    text-align:left;\n",
       "    background-color:#bb8fce;\n",
       "    font-family: Courier New,Courier,Lucida Sans Typewriter,Lucida Typewriter,monospace;\n",
       "\">python cli/teste_ds.py --recommendation 'presente de casamento'  \n",
       "</div>"
      ],
      "text/plain": [
       "<IPython.core.display.HTML object>"
      ]
     },
     "metadata": {},
     "output_type": "display_data"
    },
    {
     "data": {
      "text/html": [
       "\n",
       "        <span style=\"color:#5499c7;font-weight:bold\">Resultado</span>\n",
       "        <div style=\"\n",
       "    width:100%;\n",
       "    padding:10px 10px 10px 10px;\n",
       "    text-align:left;\n",
       "    background-color:#5499c7;\n",
       "    font-family: Courier New,Courier,Lucida Sans Typewriter,Lucida Typewriter,monospace;\n",
       "\"> - Product ID: 12705294 | Title: LEMBRANCINHA DE CASAMENTO<br /> - Product ID: 12181007 | Title: LEMBRANCINHA DE CASAMENTO<br /> - Product ID: 9793031 | Title: Lembrancinha de casamento<br /> - Product ID: 6721352 | Title: lembrancinha de casamento<br /> - Product ID: 7986446 | Title: Lembrancinha de Casamento<br /> - Product ID: 743898 | Title: Lembrancinha de Casamento<br /> - Product ID: 1334030 | Title: Lembrança de casamento<br /> - Product ID: 16488265 | Title: Lembrancinha de Casamento<br /> - Product ID: 14835882 | Title: lembrancinhas de casamento<br /> - Product ID: 16400938 | Title: lembrancinhas de casamento</div>"
      ],
      "text/plain": [
       "<IPython.core.display.HTML object>"
      ]
     },
     "metadata": {},
     "output_type": "display_data"
    },
    {
     "data": {
      "text/html": [
       "<br /><h4>Test Case 2</h4>"
      ],
      "text/plain": [
       "<IPython.core.display.HTML object>"
      ]
     },
     "metadata": {},
     "output_type": "display_data"
    },
    {
     "data": {
      "text/html": [
       "\n",
       "        <span style=\"color:#bb8fce;font-weight:bold\">Comando</span>\n",
       "        <div style=\"\n",
       "    width:100%;\n",
       "    padding:10px 10px 10px 10px;\n",
       "    text-align:left;\n",
       "    background-color:#bb8fce;\n",
       "    font-family: Courier New,Courier,Lucida Sans Typewriter,Lucida Typewriter,monospace;\n",
       "\">python cli/teste_ds.py --recommendation 'lembrancinha de chá de bebê'  \n",
       "</div>"
      ],
      "text/plain": [
       "<IPython.core.display.HTML object>"
      ]
     },
     "metadata": {},
     "output_type": "display_data"
    },
    {
     "data": {
      "text/html": [
       "\n",
       "        <span style=\"color:#5499c7;font-weight:bold\">Resultado</span>\n",
       "        <div style=\"\n",
       "    width:100%;\n",
       "    padding:10px 10px 10px 10px;\n",
       "    text-align:left;\n",
       "    background-color:#5499c7;\n",
       "    font-family: Courier New,Courier,Lucida Sans Typewriter,Lucida Typewriter,monospace;\n",
       "\"> - Product ID: 8295646 | Title: Lembrancinha de chá de bebê<br /> - Product ID: 11832607 | Title: Lembrancinha Chá de Bebê<br /> - Product ID: 15661963 | Title: Latinhas de Lembrancinhas Chá de Bebê<br /> - Product ID: 12769565 | Title: lembrancinha chá de bebê de elefantinho<br /> - Product ID: 10657689 | Title: Lembrancinha Chá de Bebê<br /> - Product ID: 5795302 | Title: Lembrancinha chá de bebê<br /> - Product ID: 6783974 | Title: Lembrancinhas de chá de bebê<br /> - Product ID: 13453340 | Title: Latinhas de Lembrancinhas Chá de Bebê<br /> - Product ID: 10236474 | Title: lembrancinha chá de bebê de elefantinho<br /> - Product ID: 2297157 | Title: Lembrancinha chá de bebê</div>"
      ],
      "text/plain": [
       "<IPython.core.display.HTML object>"
      ]
     },
     "metadata": {},
     "output_type": "display_data"
    },
    {
     "data": {
      "text/html": [
       "<br /><h4>Test Case 3</h4>"
      ],
      "text/plain": [
       "<IPython.core.display.HTML object>"
      ]
     },
     "metadata": {},
     "output_type": "display_data"
    },
    {
     "data": {
      "text/html": [
       "\n",
       "        <span style=\"color:#bb8fce;font-weight:bold\">Comando</span>\n",
       "        <div style=\"\n",
       "    width:100%;\n",
       "    padding:10px 10px 10px 10px;\n",
       "    text-align:left;\n",
       "    background-color:#bb8fce;\n",
       "    font-family: Courier New,Courier,Lucida Sans Typewriter,Lucida Typewriter,monospace;\n",
       "\">python cli/teste_ds.py --recommendation 'papel fotográfico glossy folha A4'  \n",
       "</div>"
      ],
      "text/plain": [
       "<IPython.core.display.HTML object>"
      ]
     },
     "metadata": {},
     "output_type": "display_data"
    },
    {
     "data": {
      "text/html": [
       "\n",
       "        <span style=\"color:#5499c7;font-weight:bold\">Resultado</span>\n",
       "        <div style=\"\n",
       "    width:100%;\n",
       "    padding:10px 10px 10px 10px;\n",
       "    text-align:left;\n",
       "    background-color:#5499c7;\n",
       "    font-family: Courier New,Courier,Lucida Sans Typewriter,Lucida Typewriter,monospace;\n",
       "\"> - Product ID: 2898154 | Title: Saco Papel Kraft Estampa Mickey - 18x30x11<br /> - Product ID: 3946765 | Title: Saco Papel Kraft Estampa Caveira - 18x30x11<br /> - Product ID: 11655249 | Title: Recorte em papel - Estrela<br /> - Product ID: 5519642 | Title: Saco Papel Kraft Estampa Gratidão - 18x30x11<br /> - Product ID: 4639262 | Title: Folha Papel semente A4<br /> - Product ID: 14229551 | Title: Sacola kraft media c/ papel rendado<br /> - Product ID: 15668860 | Title: Caderno Kraft A5<br /> - Product ID: 13937695 | Title: Sketchbook A5 Porta-Caneta 100 folhas Sem Pauta<br /> - Product ID: 16433367 | Title: Capa Caderno Argolado Fichário A4<br /> - Product ID: 10047244 | Title: Kit Papeis Digitais Scrapbook Glitter REF002</div>"
      ],
      "text/plain": [
       "<IPython.core.display.HTML object>"
      ]
     },
     "metadata": {},
     "output_type": "display_data"
    }
   ],
   "source": [
    "queries_tests = [\n",
    "    'presente de casamento',\n",
    "    'lembrancinha de chá de bebê',\n",
    "    'papel fotográfico glossy folha A4'\n",
    "]\n",
    "\n",
    "for ix, test_case in enumerate(queries_tests):\n",
    "    display(HTML(f'<br /><h4>Test Case {ix + 1}</h4>'))\n",
    "\n",
    "    command = f'python cli/teste_ds.py --recommendation \\'{test_case}\\'  \\n'\n",
    "    format_output(command, TEXT_COMMAND, COLOR_COMMAND)\n",
    "\n",
    "    # Send the test case content as a parameter for the CLI and store the result\n",
    "    cli_outputs = !{PYTHON_PATH} cli/teste_ds.py --recommendation {\"\\'\" + test_case + \"\\'\"}\n",
    "\n",
    "    # Show only the last printed output to suppress system messages and show a clean reponse\n",
    "    formatted_output = '<br />'.join(cli_outputs[-10:])\n",
    "    format_output(formatted_output, TEXT_RESULT, COLOR_RESULT)"
   ]
  }
 ],
 "metadata": {
  "kernelspec": {
   "display_name": "Python 3",
   "language": "python",
   "name": "python3"
  },
  "language_info": {
   "codemirror_mode": {
    "name": "ipython",
    "version": 3
   },
   "file_extension": ".py",
   "mimetype": "text/x-python",
   "name": "python",
   "nbconvert_exporter": "python",
   "pygments_lexer": "ipython3",
   "version": "3.9.5"
  }
 },
 "nbformat": 4,
 "nbformat_minor": 5
}
