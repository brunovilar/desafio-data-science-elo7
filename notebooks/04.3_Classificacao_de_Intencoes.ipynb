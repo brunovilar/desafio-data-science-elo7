{
 "cells": [
  {
   "cell_type": "markdown",
   "id": "b16b3028-e9c2-400f-81fe-57cbd45c13c9",
   "metadata": {},
   "source": [
    "# Classificação Supervisionada de Intenções de Busca\n",
    "\n",
    "A partir da análise preliminar de características extraídas das buscas, realizada no notebook [Análise para Classificação de Intenções](04.2_Analise_para_Classificacao_de_Intencoes.ipynb), parte-se para a criação de um modelo de classificação para determinar a intenção de uma busca. Como itenções de busca estão sendo considerados o **foco**, que permite encontrar os melhores produtos dentro de um segmento mais claro, ou a **exploração**, com o acesso a uma diversidade maior de produtos de diferentes segmentos."
   ]
  },
  {
   "cell_type": "markdown",
   "id": "c3069bdb-f4ce-4922-bb51-aaa4cad6fa58",
   "metadata": {},
   "source": [
    "## Bibliotecas e Funções"
   ]
  },
  {
   "cell_type": "code",
   "execution_count": 1,
   "id": "4c98817d-38f5-43d8-b36d-7f472da0649d",
   "metadata": {
    "tags": []
   },
   "outputs": [],
   "source": [
    "# Usado para ler arquivos, carregar código personalizado e ter acesso a outros recursos de sistema\n",
    "import sys\n",
    "import time\n",
    "import shutil\n",
    "from pathlib import Path\n",
    "\n",
    "# Verificação de tipos\n",
    "from typing import List, Tuple, Set, Any\n",
    "\n",
    "# Programação funcional e utilitários\n",
    "import funcy as fp\n",
    "import itertools\n",
    "from functools import partial\n",
    "\n",
    "# Recursos para texto\n",
    "import re\n",
    "\n",
    "# Manipulação e análise dos dados\n",
    "import numpy as np\n",
    "import pandas as pd\n",
    "\n",
    "# Experimentação\n",
    "from sklearn import preprocessing\n",
    "from sklearn.model_selection import StratifiedKFold\n",
    "from sklearn.neural_network import MLPClassifier\n",
    "from sklearn.ensemble import RandomForestClassifier\n",
    "\n",
    "# Algoritmos adicionais para a criação de modelos\n",
    "from catboost import CatBoostClassifier\n",
    "\n",
    "# Rastreamento de experimentos e modelos\n",
    "import mlflow\n",
    "import mlflow.sklearn\n",
    "from mlflow.tracking import MlflowClient\n",
    "from mlflow.models.signature import infer_signature\n",
    "\n",
    "# Recursos para visualização dos dados\n",
    "import matplotlib.pyplot as plt\n",
    "import seaborn as sns\n",
    "from IPython.core.display import HTML, display\n",
    "\n",
    "# Carregar, além de atualizar frequentemente, código personalizado disponível em ../src\n",
    "%load_ext autoreload \n",
    "%autoreload 2\n",
    "\n",
    "\n",
    "sys.path.append(str(Path.cwd().parent))\n",
    "from src import settings\n",
    "from src.utils.notebooks import display_side_by_side\n",
    "from src.utils.text import extract_artisanal_text_features\n",
    "from src.utils.experiments import (compute_entropy,\n",
    "                                   compute_binary_classification_metrics,\n",
    "                                   format_nested_parameters)\n",
    "from src.pipeline.training_pipeline import (compute_embeddings_frame,\n",
    "                                            create_feature_matrix)\n",
    "from src.pipeline.wrappers import SupervisedIntentClassificationPreprocessingWrapper\n",
    "\n",
    "# Configurações para a exibição de conteúdo do Pandas e das bibliotecas gráficas\n",
    "%matplotlib inline \n",
    "sns.set(rc={'figure.figsize':(25,10)})\n",
    "pd.set_option('display.max_rows', None)\n",
    "pd.set_option(\"display.max_columns\", None)\n",
    "pd.set_option('max_colwidth', 150)"
   ]
  },
  {
   "cell_type": "markdown",
   "id": "47913720-862c-4fc1-9004-ebe7f2cd4055",
   "metadata": {},
   "source": [
    "## Configurações de Rastreamento de Experimentos"
   ]
  },
  {
   "cell_type": "code",
   "execution_count": 2,
   "id": "1ad168c2-7169-4287-82cf-cb969bc7dd53",
   "metadata": {},
   "outputs": [],
   "source": [
    "EXPERIMENT_NAME = '04_SupervisedQueryIntentClassification'\n",
    "EXPERIMENT_RUN_NAME = f'More Restrictive Qualified Queries + Embeddings and Artisanal Feaures'\n",
    "\n",
    "mlflow_client = MlflowClient()\n",
    "\n",
    "# If the experiment already exists, retrieve its ID from Mlflow\n",
    "experiment = mlflow_client.get_experiment_by_name(EXPERIMENT_NAME)\n",
    "if not experiment:\n",
    "    mlflow_client.create_experiment(EXPERIMENT_NAME)\n",
    "    experiment = mlflow_client.get_experiment_by_name(EXPERIMENT_NAME)\n",
    "\n",
    "EXPERIMENT_ID = experiment.experiment_id\n",
    "del experiment"
   ]
  },
  {
   "cell_type": "markdown",
   "id": "30cb047e-f436-4577-bf89-775ebdb355b2",
   "metadata": {},
   "source": [
    "## Hiperparâmetros e Funções\n",
    "\n",
    "Os hiperparâmetros e funções utilizadas são definidos a seguir."
   ]
  },
  {
   "cell_type": "code",
   "execution_count": 3,
   "id": "067e2cd7-991f-48fc-b176-fc483e0dcfe4",
   "metadata": {},
   "outputs": [],
   "source": [
    "# Data Source params\n",
    "UNSUPERVISED_INTENT_RUN_ID = settings.USUPERVISED_INTENT_CLASSIFICATION_RUN_ID\n",
    "\n",
    "# Preprocessing params\n",
    "EMBEDDING_COLUMNS = ['query']\n",
    "ARTISANAL_COLUMNS = ['query']\n",
    "\n",
    "# Training params\n",
    "STRATIFIED_SPLITS = 10\n",
    "\n",
    "pipeline_parameters = {'embedding_columns': EMBEDDING_COLUMNS,\n",
    "                       'artisanal_columns': ARTISANAL_COLUMNS}"
   ]
  },
  {
   "cell_type": "markdown",
   "id": "ef4c9bbb-f418-4e44-9690-245653a45821",
   "metadata": {},
   "source": [
    "## Carregamento do Conjunto de Dados\n",
    "\n",
    "O conjunto de dados criado para o problema de classificação supervisionada de intenção de busca é carregado com todas as colunas existentes."
   ]
  },
  {
   "cell_type": "code",
   "execution_count": 4,
   "id": "12093c18-086d-4333-8ed3-cd2403e24fd2",
   "metadata": {},
   "outputs": [
    {
     "data": {
      "text/html": [
       "\n",
       "                      <div style='display:block;float:left;padding:0 5px 0 0;text-align:center'>\n",
       "                         <h3>Conjunto de Dados de Intenções de Busca</h3><br />\n",
       "                         <table border=\"1\" class=\"dataframe\">\n",
       "  <thead>\n",
       "    <tr style=\"text-align: right;\">\n",
       "      <th></th>\n",
       "      <th>query</th>\n",
       "      <th>intent_class</th>\n",
       "      <th>intent_description</th>\n",
       "    </tr>\n",
       "  </thead>\n",
       "  <tbody>\n",
       "    <tr>\n",
       "      <th>0</th>\n",
       "      <td>super mario</td>\n",
       "      <td>0</td>\n",
       "      <td>Busca Exploratória</td>\n",
       "    </tr>\n",
       "    <tr>\n",
       "      <th>1</th>\n",
       "      <td>estojo personalizado</td>\n",
       "      <td>0</td>\n",
       "      <td>Busca Exploratória</td>\n",
       "    </tr>\n",
       "    <tr>\n",
       "      <th>2</th>\n",
       "      <td>girassol</td>\n",
       "      <td>0</td>\n",
       "      <td>Busca Exploratória</td>\n",
       "    </tr>\n",
       "    <tr>\n",
       "      <th>3</th>\n",
       "      <td>difusor lembrancinha</td>\n",
       "      <td>0</td>\n",
       "      <td>Busca Exploratória</td>\n",
       "    </tr>\n",
       "    <tr>\n",
       "      <th>4</th>\n",
       "      <td>festa borboleta</td>\n",
       "      <td>0</td>\n",
       "      <td>Busca Exploratória</td>\n",
       "    </tr>\n",
       "    <tr>\n",
       "      <th>5</th>\n",
       "      <td>lapis personalizados</td>\n",
       "      <td>0</td>\n",
       "      <td>Busca Exploratória</td>\n",
       "    </tr>\n",
       "    <tr>\n",
       "      <th>6</th>\n",
       "      <td>tag para lembrancinha de maternidade</td>\n",
       "      <td>0</td>\n",
       "      <td>Busca Exploratória</td>\n",
       "    </tr>\n",
       "    <tr>\n",
       "      <th>7</th>\n",
       "      <td>kit jardinagem</td>\n",
       "      <td>1</td>\n",
       "      <td>Busca Focada</td>\n",
       "    </tr>\n",
       "    <tr>\n",
       "      <th>8</th>\n",
       "      <td>newborn</td>\n",
       "      <td>0</td>\n",
       "      <td>Busca Exploratória</td>\n",
       "    </tr>\n",
       "    <tr>\n",
       "      <th>9</th>\n",
       "      <td>kit bebe</td>\n",
       "      <td>0</td>\n",
       "      <td>Busca Exploratória</td>\n",
       "    </tr>\n",
       "  </tbody>\n",
       "</table>\n",
       "                      </div>\n",
       "                    "
      ],
      "text/plain": [
       "<IPython.core.display.HTML object>"
      ]
     },
     "metadata": {},
     "output_type": "display_data"
    }
   ],
   "source": [
    "columns_to_read = ['query', 'intent_class', 'intent_description']\n",
    "\n",
    "frame = pd.read_csv(Path(settings.DATA_PATH).joinpath('interim', 'query_intent_training.csv'), usecols=columns_to_read)\n",
    "\n",
    "display_side_by_side([frame.head(10)], ['Conjunto de Dados de Intenções de Busca'])"
   ]
  },
  {
   "cell_type": "markdown",
   "id": "98b9aa4a-b274-4ded-84b3-f67b18989501",
   "metadata": {},
   "source": [
    "## Codificar Labels\n",
    "\n",
    "Ainda que sejam apenas 2 rótulos de intenção de busca, cria-se um *Label Encoder* para manter um padrão de organização do projeto e evitar a necessidade de criação manual de uma descrição para cada classe. Como os valores codificados já estão nos dados, é preciso apenas assegurar a consistência da codificação."
   ]
  },
  {
   "cell_type": "code",
   "execution_count": 5,
   "id": "c6ae823e-4ea1-4050-8ed8-68bc5a8d67f4",
   "metadata": {},
   "outputs": [],
   "source": [
    "label_encoder = preprocessing.LabelEncoder()\n",
    "label_encoder.fit(['Foco', 'Exploração'])\n",
    "\n",
    "assert all(label_encoder.transform(['Exploração', 'Foco']) == [0, 1]), \"A codificação da descrição das intenções de busca está incorreta\""
   ]
  },
  {
   "cell_type": "markdown",
   "id": "cdfce7b1-7c5d-42ff-b561-81e6dd8cceb1",
   "metadata": {},
   "source": [
    "## Preparação de Dados\n",
    "A seguir, cria-se um *wrapper* com as referências necessárias para pré-processar os dados para a classificação."
   ]
  },
  {
   "cell_type": "code",
   "execution_count": 6,
   "id": "9922d1ca-9b9d-4132-8d3d-13b39269fe58",
   "metadata": {},
   "outputs": [],
   "source": [
    "preprocessing_wrapper = SupervisedIntentClassificationPreprocessingWrapper(artisanal_features=ARTISANAL_COLUMNS, embeddings_features=EMBEDDING_COLUMNS)"
   ]
  },
  {
   "cell_type": "markdown",
   "id": "d81be9b6-5454-41bf-a1c4-8f42b9f11cb8",
   "metadata": {},
   "source": [
    "Com o *wrapper*, pode-se fazer o pré-processamento dos dados para treinar o modelo de classificação."
   ]
  },
  {
   "cell_type": "code",
   "execution_count": 7,
   "id": "85441005-ecba-44b2-aafa-6dbaeef44cde",
   "metadata": {},
   "outputs": [
    {
     "name": "stderr",
     "output_type": "stream",
     "text": [
      "Warning : `load_model` does not return WordVectorModel or SupervisedModel any more, but a `FastText` object which is very similar.\n"
     ]
    }
   ],
   "source": [
    "X_base = preprocessing_wrapper.predict(_, frame)\n",
    "y_base = frame['intent_class']"
   ]
  },
  {
   "cell_type": "markdown",
   "id": "3398d59a-b84a-4987-a859-743ac3b410b0",
   "metadata": {},
   "source": [
    "## Balanceamento de Classes\n",
    "\n",
    "Como há um desbalanceamento no número de registros de cada intenção, é interessante fazer um contra-balanceamento dos pesos para que exista uma proporcionalidade entre eles para o modelo. Assim, a intenção com mais itens deve ter peso menor, enquanto os itens da intenção menos representada deve ter peso maior."
   ]
  },
  {
   "cell_type": "code",
   "execution_count": 8,
   "id": "057cf3db-14ee-43d9-99e9-e14acc38b068",
   "metadata": {},
   "outputs": [
    {
     "data": {
      "text/html": [
       "\n",
       "                      <div style='display:block;float:left;padding:0 5px 0 0;text-align:center'>\n",
       "                         <h3>Distribuição de Classes e Pesos</h3><br />\n",
       "                         <table border=\"1\" class=\"dataframe\">\n",
       "  <thead>\n",
       "    <tr style=\"text-align: right;\">\n",
       "      <th></th>\n",
       "      <th>intent_class</th>\n",
       "      <th>records</th>\n",
       "      <th>weight</th>\n",
       "      <th>label</th>\n",
       "      <th>description</th>\n",
       "    </tr>\n",
       "  </thead>\n",
       "  <tbody>\n",
       "    <tr>\n",
       "      <th>0</th>\n",
       "      <td>0</td>\n",
       "      <td>1570</td>\n",
       "      <td>0.663694</td>\n",
       "      <td>0</td>\n",
       "      <td>Exploração</td>\n",
       "    </tr>\n",
       "    <tr>\n",
       "      <th>1</th>\n",
       "      <td>1</td>\n",
       "      <td>514</td>\n",
       "      <td>2.027237</td>\n",
       "      <td>1</td>\n",
       "      <td>Foco</td>\n",
       "    </tr>\n",
       "  </tbody>\n",
       "</table>\n",
       "                      </div>\n",
       "                    "
      ],
      "text/plain": [
       "<IPython.core.display.HTML object>"
      ]
     },
     "metadata": {},
     "output_type": "display_data"
    }
   ],
   "source": [
    "n_samples = len(frame)\n",
    "n_classes = len(label_encoder.classes_)\n",
    "\n",
    "value_counts_frame = (frame\n",
    "                      [['intent_class']]\n",
    "                      .assign(records=1)\n",
    "                      .groupby(['intent_class'])\n",
    "                      .sum()\n",
    "                      .reset_index()                      \n",
    "                      .assign(weight=lambda f: f['records'].apply(lambda r: n_samples / (n_classes * r)))\n",
    "                      .assign(label=lambda f: f['intent_class'])\n",
    "                      .assign(description=lambda f: label_encoder.inverse_transform(f['intent_class']))\n",
    "                     )\n",
    "display_side_by_side([value_counts_frame], ['Distribuição de Classes e Pesos'])\n",
    "\n",
    "class_weights = {item.label: item.weight for item in value_counts_frame[['label', 'weight']].itertuples(index=False)}\n",
    "\n",
    "del n_samples, value_counts_frame, frame"
   ]
  },
  {
   "cell_type": "markdown",
   "id": "403a7b09-55d5-4fed-9cdf-04f2a0601c65",
   "metadata": {},
   "source": [
    "A seguir, tem-se a estrutura de exploração de algoritmos e parâmetros que podem ser utilizados para criar modelos de classificação. Com o uso do MLflow, cada experimento pode ser registrado para que o histórico sirva para avaliar as mudanças que foram mais eficazes.\n",
    "\n",
    "Para fazer a experimentação, consideraria algumas opções:\n",
    " - **Catboost**: uma alternativa entre as versões de gradient boosting --  como XBoost e LightGBM -- a partir de árvores de decisão. Oferece recursos para tratamento de variáveis categóricas e textuais, tem bom ajuste automático de hiperparâmetros (considerando os dados) e desempenho, com suporte a GPU, além de suportar dados não preenchidos.\n",
    " - **Redes Neurais**: apesar de exigir tratamentos adicionais nos dados (normalização e imputação de valores ausentes), tende a oferecer bom desempenho no cenário atual, especialmente com o uso de *embeddings*.\n",
    " - **Random Forest**: um modelo de *bagging*, também baseado em árvores de decisão."
   ]
  },
  {
   "cell_type": "code",
   "execution_count": 9,
   "id": "1b4fc2a8-cd3b-49b5-a8c7-84e5b34fd7d4",
   "metadata": {},
   "outputs": [
    {
     "name": "stderr",
     "output_type": "stream",
     "text": [
      "/media/bruno/f331903b-17cb-447b-b132-e6f1f08f80f8/Development/virtual_envs/teste_HT/lib/python3.8/site-packages/sklearn/metrics/_classification.py:870: RuntimeWarning: invalid value encountered in double_scalars\n",
      "  mcc = cov_ytyp / np.sqrt(cov_ytyt * cov_ypyp)\n",
      "/media/bruno/f331903b-17cb-447b-b132-e6f1f08f80f8/Development/virtual_envs/teste_HT/lib/python3.8/site-packages/sklearn/metrics/_classification.py:1245: UndefinedMetricWarning: Precision is ill-defined and being set to 0.0 due to no predicted samples. Use `zero_division` parameter to control this behavior.\n",
      "  _warn_prf(average, modifier, msg_start, len(result))\n"
     ]
    }
   ],
   "source": [
    "models_parameters = {    \n",
    "    'MLP': {'activation':'tanh', 'learning_rate_init': 0.001, 'learning_rate': 'adaptive', 'alpha': 0.001, 'early_stopping': True, 'hidden_layer_sizes':(200, 200)},\n",
    "    'CB': {'loss_function': 'Logloss', 'iterations': 500, 'save_snapshot': False, 'verbose': False, 'class_weights': class_weights},\n",
    "    'RF': {'n_estimators':500, 'criterion':'entropy', 'n_jobs':-1, 'class_weight': class_weights},\n",
    "}\n",
    "\n",
    "fit_parameters = {    \n",
    "    'MLP': {},\n",
    "    'CB': {},\n",
    "    'RF': {}\n",
    "}\n",
    "\n",
    "models_to_train = {\n",
    "    'MLP': MLPClassifier,\n",
    "    'CB': CatBoostClassifier,\n",
    "    'RF': RandomForestClassifier,\n",
    "}\n",
    "\n",
    "iterations_tracking = []\n",
    "trained_models = []\n",
    "validation_scores = []\n",
    "\n",
    "artifacts_path = Path(settings.LOGS_ARTIFACTS_PATH)\n",
    "\n",
    "with mlflow.start_run(run_name=EXPERIMENT_RUN_NAME, experiment_id=EXPERIMENT_ID) as main_run:\n",
    "    # A cada execução limpa o diretório de artefatos para gravar novos, a serem salvos no MLflow\n",
    "    if artifacts_path.exists():\n",
    "        shutil.rmtree(settings.LOGS_ARTIFACTS_PATH)\n",
    "    artifacts_path.mkdir()\n",
    "\n",
    "    mlflow.log_param('stratified_splits', STRATIFIED_SPLITS)\n",
    "    mlflow.log_param('unsupervised_intent_run_id', UNSUPERVISED_INTENT_RUN_ID)\n",
    "\n",
    "    simple_pipeline_params, complex_pipeline_params = format_nested_parameters(pipeline_parameters, 'pipeline')\n",
    "    mlflow.log_params(simple_pipeline_params)\n",
    "\n",
    "    stratified_splitter = StratifiedKFold(n_splits=STRATIFIED_SPLITS, shuffle=True, random_state=392)\n",
    "\n",
    "    for ix, (train_index, validation_index) in enumerate(stratified_splitter.split(X_base, y_base)):\n",
    "        # Materializa os datasets do da divisão estratificada\n",
    "        X_training = X_base[train_index]\n",
    "        y_training = y_base[train_index]\n",
    "\n",
    "        X_validation = X_base[validation_index]\n",
    "        y_validation = y_base[validation_index]\n",
    "\n",
    "        for model_name, model_class in models_to_train.items():\n",
    "            \n",
    "            # Registra a execução aninhada do algoritmo\n",
    "            with mlflow.start_run(run_name=f'01_{ix}_{EXPERIMENT_RUN_NAME}_{model_name}', experiment_id=EXPERIMENT_ID, nested=True) as nested_run:\n",
    "                start_time = time.time()\n",
    "                model = model_class(**models_parameters.get(model_name, {}))\n",
    "                model.fit(X_training, y_training)\n",
    "                mlflow.log_metric('training_time', time.time() - start_time)\n",
    "\n",
    "                trained_models.append((model_name, ix, model)) \n",
    "                preds = model.predict(X_validation)\n",
    "\n",
    "                eval_metrics = compute_binary_classification_metrics(y_validation, preds.round())\n",
    "\n",
    "                iteration_tracking = {**{'Algorithm': model_name,\n",
    "                                         'Iteration': ix}, \n",
    "                                      **eval_metrics}\n",
    "                iterations_tracking.append(iteration_tracking)\n",
    "\n",
    "                validation_scores.append((model_name, ix, eval_metrics['f1']))\n",
    "\n",
    "                mlflow.log_param('model_name', model_name)\n",
    "                mlflow.log_params(models_parameters.get(model_name, {}))\n",
    "                mlflow.sklearn.log_model(model, \"model\")\n",
    "                for key, value in eval_metrics.items():\n",
    "                    mlflow.log_metric(key, np.mean(value))\n",
    "\n",
    "                # Salva o modelo criado\n",
    "                signature = infer_signature(X_training, preds)\n",
    "                mlflow.sklearn.log_model(model, model_name, signature=signature)\n",
    "\n",
    "\n",
    "    # Registra as dimensões dos vetores de treinamento e validação\n",
    "    mlflow.log_param('X_training', X_training.shape)\n",
    "    mlflow.log_param('X_validation', X_validation.shape)\n",
    "\n",
    "    # Métricas de avaliação individual\n",
    "    evaluation_frame = pd.DataFrame(iterations_tracking)\n",
    "    evaluation_frame.to_csv(str(artifacts_path.joinpath('experiment_runs.csv')))\n",
    "    evaluation_frame.to_html(str(artifacts_path.joinpath('experiment_runs.html')))\n",
    "\n",
    "    # Sumarização das métricas de várias execuções de um mesmo algoritmo    \n",
    "    evaluation_summary_frame = (evaluation_frame\n",
    "                                [['Algorithm', 'acc', 'auc', 'mc', 'precision', 'recall', 'f1', 'filtering']]\n",
    "                                .groupby('Algorithm')\n",
    "                                .agg([np.mean, np.std])\n",
    "                               )\n",
    "\n",
    "    for item in evaluation_summary_frame.itertuples():\n",
    "        mlflow.log_metric(item.Index, item._7)\n",
    "\n",
    "    best_result_index = evaluation_summary_frame[('f1', 'mean')].argmax()\n",
    "    for metric in ['acc', 'auc', 'mc', 'precision', 'recall', 'f1', 'filtering']:\n",
    "        mlflow.log_metric(metric, evaluation_summary_frame.iloc[best_result_index][(metric, \"mean\")])\n",
    "\n",
    "    evaluation_summary_frame.to_csv(str(artifacts_path.joinpath('experiment_runs_summary.csv')))\n",
    "    evaluation_summary_frame.to_html(str(artifacts_path.joinpath('experiment_runs_summary.html')))\n",
    "    \n",
    "    for param_name, param_value in complex_pipeline_params.items():\n",
    "        with open(str(artifacts_path.joinpath(f'{param_name}.txt')), 'w') as file:\n",
    "            file.write(param_value)\n",
    "\n",
    "    # Armazena o wrapper de pré-processamento junto com os dados do experimento\n",
    "    preprocessing_model_path = str(artifacts_path.joinpath('preprocessing_model'))\n",
    "    mlflow.pyfunc.save_model(path=preprocessing_model_path, python_model=preprocessing_wrapper)\n",
    "    \n",
    "    # Salva o LabelEncoder\n",
    "    signature = infer_signature(np.array(label_encoder.classes_), np.array([0, 1]))\n",
    "    mlflow.sklearn.log_model(label_encoder, 'label_encoder', signature=signature)\n",
    "\n",
    "    mlflow.log_artifact(settings.LOGS_ARTIFACTS_PATH)"
   ]
  },
  {
   "cell_type": "markdown",
   "id": "9b9c690d-05d3-4e01-9a76-267cb2dcd2f6",
   "metadata": {},
   "source": [
    "## Resultados do Experimento\n",
    "\n",
    "Esta experimentação básica está persistida apenas como exemplo. Nesta avaliação, o CatBoost teve melhor desempenho, ainda que o resultado não tenha sido exatamente bom. Apesar disso, a proposta de criar um modelo supervisionado para classificar a intenção sem precisar ter o custo de usar o histórico de buscas, parece viável e apresenta um baseline.\n",
    "\n",
    "Em termos de elementos que beneficiaram os modelos, há dois principais grupos:\n",
    " - *Embeddings*: Possui a maior contribuição, mostrando que o conteúdo da busca é determinante para indicar sua intenção;\n",
    " - *Características extraídas artesanalmente*: sozinhas permitem a criação de um modelo próximo do razoável. Em conjunto com *embeddings*, adicionam uma contribuição minimamente relevante.\n",
    "\n",
    "Com relação aos resultados, à primeira vista, o que se pode observar:\n",
    " - O resultado geral, observado pelo F1 e pelo MC, mostra que o modelo é melhor do que um modelo simplesmente aleatório, mas que ainda está aquém do esperado para uso.\n",
    " - Com *precision* e *recall* em torno de 0.6, parece existir um benefício limitado em ajustar o *threshold* da probabilidade que define se a classe é positiva ou não. Aumentar o *threshold* deve reduzir ainda mais a capacidade de recuperar casos de buscas focadas, ainda que possa aumentar a precisão. Reduzir o *threshold* pode ser uma opção melhor, apesar de reduzir a precisão, existiriam menos falsos negativos, o que garantiria que mais buscas fossem identificadas como focadas.\n",
    " \n",
    "Como resultado dessas observações, um primeiro ajuste a ser feito pode ser o critério para se determinar uma busca como sendo focada ou não. Os dois critérios principais são:\n",
    " - Aumentar o número mínimo de resultados necessários para considerar uma busca como qualificada;\n",
    " - Incrementar o limiar de entropia, para torná-lo mais rígido.\n",
    " \n",
    "Além desses elementos que determinam a intenção de busca, é possível trabalhar em mais características de entradas para os modelos. Como último recurso, pode-se tentar criar características baseadas em buscas similares que estejam no conjunto de treinamento, como se fosse a base histórica do Elo7. No entanto, isso deve ser feito com cuidado para não gerar vazamento de informações e não reduzir a eficiência da geração das características, o que aumentaria o tempo de resposta de uma ação para o usuário. \n",
    "\n",
    "Apesar de todas as possibilidades listadas de melhorias e experimentações, é preciso entender que há uma limitação inerente aos dados apresentados, que são uma amostra para uma avaliação pontual. A partir do acesso aos dados completos poderia ser possível estabelecer melhor as intenções com a correta identificação dos usuários que as fizeram e com a sequência de interações realizadas. A informação de quais produtos foram comprados poderia trazer um nível de evidência ainda mais forte sobre a intenção."
   ]
  },
  {
   "cell_type": "code",
   "execution_count": 10,
   "id": "6cf79add-b804-4d80-a2b5-ca6c75ce2617",
   "metadata": {},
   "outputs": [
    {
     "data": {
      "text/html": [
       "\n",
       "                      <div style='display:block;float:left;padding:0 5px 0 0;text-align:center'>\n",
       "                         <h3>Resumo das Execuções</h3><br />\n",
       "                         <table border=\"1\" class=\"dataframe\">\n",
       "  <thead>\n",
       "    <tr>\n",
       "      <th></th>\n",
       "      <th colspan=\"2\" halign=\"left\">acc</th>\n",
       "      <th colspan=\"2\" halign=\"left\">auc</th>\n",
       "      <th colspan=\"2\" halign=\"left\">mc</th>\n",
       "      <th colspan=\"2\" halign=\"left\">precision</th>\n",
       "      <th colspan=\"2\" halign=\"left\">recall</th>\n",
       "      <th colspan=\"2\" halign=\"left\">f1</th>\n",
       "      <th colspan=\"2\" halign=\"left\">filtering</th>\n",
       "    </tr>\n",
       "    <tr>\n",
       "      <th></th>\n",
       "      <th>mean</th>\n",
       "      <th>std</th>\n",
       "      <th>mean</th>\n",
       "      <th>std</th>\n",
       "      <th>mean</th>\n",
       "      <th>std</th>\n",
       "      <th>mean</th>\n",
       "      <th>std</th>\n",
       "      <th>mean</th>\n",
       "      <th>std</th>\n",
       "      <th>mean</th>\n",
       "      <th>std</th>\n",
       "      <th>mean</th>\n",
       "      <th>std</th>\n",
       "    </tr>\n",
       "    <tr>\n",
       "      <th>Algorithm</th>\n",
       "      <th></th>\n",
       "      <th></th>\n",
       "      <th></th>\n",
       "      <th></th>\n",
       "      <th></th>\n",
       "      <th></th>\n",
       "      <th></th>\n",
       "      <th></th>\n",
       "      <th></th>\n",
       "      <th></th>\n",
       "      <th></th>\n",
       "      <th></th>\n",
       "      <th></th>\n",
       "      <th></th>\n",
       "    </tr>\n",
       "  </thead>\n",
       "  <tbody>\n",
       "    <tr>\n",
       "      <th>CB</th>\n",
       "      <td>0.812369</td>\n",
       "      <td>0.015557</td>\n",
       "      <td>0.732800</td>\n",
       "      <td>0.030036</td>\n",
       "      <td>0.480789</td>\n",
       "      <td>0.049800</td>\n",
       "      <td>0.631773</td>\n",
       "      <td>0.035259</td>\n",
       "      <td>0.575792</td>\n",
       "      <td>0.065451</td>\n",
       "      <td>0.600802</td>\n",
       "      <td>0.043077</td>\n",
       "      <td>0.225048</td>\n",
       "      <td>0.024643</td>\n",
       "    </tr>\n",
       "    <tr>\n",
       "      <th>MLP</th>\n",
       "      <td>0.757692</td>\n",
       "      <td>0.020071</td>\n",
       "      <td>0.591189</td>\n",
       "      <td>0.057470</td>\n",
       "      <td>0.225888</td>\n",
       "      <td>0.111922</td>\n",
       "      <td>0.473915</td>\n",
       "      <td>0.176735</td>\n",
       "      <td>0.262632</td>\n",
       "      <td>0.155644</td>\n",
       "      <td>0.321890</td>\n",
       "      <td>0.157936</td>\n",
       "      <td>0.125225</td>\n",
       "      <td>0.073607</td>\n",
       "    </tr>\n",
       "    <tr>\n",
       "      <th>RF</th>\n",
       "      <td>0.809965</td>\n",
       "      <td>0.013855</td>\n",
       "      <td>0.646725</td>\n",
       "      <td>0.029432</td>\n",
       "      <td>0.414082</td>\n",
       "      <td>0.059338</td>\n",
       "      <td>0.773548</td>\n",
       "      <td>0.061915</td>\n",
       "      <td>0.324661</td>\n",
       "      <td>0.060995</td>\n",
       "      <td>0.454521</td>\n",
       "      <td>0.066337</td>\n",
       "      <td>0.103635</td>\n",
       "      <td>0.018491</td>\n",
       "    </tr>\n",
       "  </tbody>\n",
       "</table>\n",
       "                      </div>\n",
       "                    "
      ],
      "text/plain": [
       "<IPython.core.display.HTML object>"
      ]
     },
     "metadata": {},
     "output_type": "display_data"
    },
    {
     "data": {
      "image/png": "[encoded data removed]",
      "text/plain": [
       "<Figure size 1440x720 with 1 Axes>"
      ]
     },
     "metadata": {},
     "output_type": "display_data"
    },
    {
     "data": {
      "image/png": "[encoded data removed]",
      "text/plain": [
       "<Figure size 1440x720 with 1 Axes>"
      ]
     },
     "metadata": {},
     "output_type": "display_data"
    },
    {
     "data": {
      "image/png": "[encoded data removed]",
      "text/plain": [
       "<Figure size 1440x720 with 1 Axes>"
      ]
     },
     "metadata": {},
     "output_type": "display_data"
    }
   ],
   "source": [
    "display_side_by_side([evaluation_summary_frame], ['Resumo das Execuções'])\n",
    "\n",
    "for column in ['f1', 'auc', 'mc']:\n",
    "    plt.figure(figsize=(20,10))\n",
    "    ax = sns.boxplot(x=\"Algorithm\", y=column, data=evaluation_frame)\n",
    "    ax.set_title(f'Avaliação de {column.capitalize()} para {STRATIFIED_SPLITS} treinamentos', fontdict={'fontsize':25});"
   ]
  }
 ],
 "metadata": {
  "kernelspec": {
   "display_name": "Python 3",
   "language": "python",
   "name": "python3"
  },
  "language_info": {
   "codemirror_mode": {
    "name": "ipython",
    "version": 3
   },
   "file_extension": ".py",
   "mimetype": "text/x-python",
   "name": "python",
   "nbconvert_exporter": "python",
   "pygments_lexer": "ipython3",
   "version": "3.8.5"
  }
 },
 "nbformat": 4,
 "nbformat_minor": 5
}
