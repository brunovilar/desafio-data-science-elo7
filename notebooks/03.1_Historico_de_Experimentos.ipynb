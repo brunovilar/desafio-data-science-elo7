{
 "cells": [
  {
   "cell_type": "code",
   "execution_count": 1,
   "metadata": {},
   "outputs": [],
   "source": [
    "# General\n",
    "import os\n",
    "import sys\n",
    "import funcy as fp\n",
    "\n",
    "# Visualization / Presentation\n",
    "import matplotlib.pyplot as plt\n",
    "import seaborn as sns\n",
    "from IPython.core.display import HTML, display\n",
    "\n",
    "import mlflow\n",
    "from mlflow.tracking import MlflowClient\n",
    "import pandas as pd\n",
    "\n",
    "# Carregar, além de atualizar frequentemente, código personalizado disponível em ../src\n",
    "%load_ext autoreload \n",
    "%autoreload 2\n",
    "sys.path.append(os.path.abspath(os.path.pardir))\n",
    "from src import settings\n",
    "from src.utils.notebooks import display_side_by_side\n",
    "\n",
    "# Configurações para a exibição de conteúdo do Pandas e das bibliotecas gráficas\n",
    "%matplotlib inline \n",
    "sns.set(rc={'figure.figsize':(25,10)})\n",
    "pd.set_option('display.max_rows', None)\n",
    "pd.set_option(\"display.max_columns\", None)\n",
    "pd.set_option('max_colwidth', 150)"
   ]
  },
  {
   "cell_type": "markdown",
   "metadata": {},
   "source": [
    "## Introdução\n",
    "\n",
    "Este notebook tem como objetivo permitir o registro visual dos experimentos feitos e oferecer um modo de recuperar um experimento e analisar os resultados em mais detalhes.\n",
    "Os princípios usados para recuperar o modelo e as funções de pré-processamento usadas aqui também podem ser usadas para \"produtizar\" o classificador e o recomendador -- com as ressalvas já feitas anteriormente sobre modos melhores de implementar o pipeline para o ambiente de produção e para os modos de processamento unitário ou em lote.\n",
    "\n",
    "## Recuperação do melhor resultado\n",
    "\n",
    "A seguir, considerando o primeiro experimento feito, recupera-se o melhor resultado a partir da métrica do F1 médio entre as categorias."
   ]
  },
  {
   "cell_type": "code",
   "execution_count": 2,
   "metadata": {},
   "outputs": [],
   "source": [
    "EXPERIMENT_ID = '0'\n",
    "\n",
    "mlflow_client = MlflowClient()\n",
    "\n",
    "best_experiments_result = [\n",
    "    mlflow.search_runs(experiment_ids=[experiment_id], \n",
    "                       max_results=100, \n",
    "                       order_by=['metrics.F1 DESC'], \n",
    "                       filter_string='attributes.status=\"FINISHED\"')\n",
    "    for experiment_id in [EXPERIMENT_ID]\n",
    "]\n",
    "\n",
    "best_results = pd.concat(best_experiments_result, axis=0)"
   ]
  },
  {
   "cell_type": "markdown",
   "metadata": {},
   "source": [
    "Dada uma execução, tem-se a lista de resultados individuais dos modelos e a execução agregadora, sem nome de modelo (*arams.model_name*), que mantém as informações do experimento como um todo (e.g., funções e parâmetros de pré-processamento)."
   ]
  },
  {
   "cell_type": "code",
   "execution_count": 3,
   "metadata": {},
   "outputs": [
    {
     "data": {
      "text/html": [
       "<div>\n",
       "<style scoped>\n",
       "    .dataframe tbody tr th:only-of-type {\n",
       "        vertical-align: middle;\n",
       "    }\n",
       "\n",
       "    .dataframe tbody tr th {\n",
       "        vertical-align: top;\n",
       "    }\n",
       "\n",
       "    .dataframe thead th {\n",
       "        text-align: right;\n",
       "    }\n",
       "</style>\n",
       "<table border=\"1\" class=\"dataframe\">\n",
       "  <thead>\n",
       "    <tr style=\"text-align: right;\">\n",
       "      <th></th>\n",
       "      <th>experiment_name</th>\n",
       "      <th>tags.mlflow.runName</th>\n",
       "      <th>run_id</th>\n",
       "      <th>experiment_id</th>\n",
       "      <th>params.model_name</th>\n",
       "      <th>metrics.f1</th>\n",
       "      <th>metrics.precision</th>\n",
       "      <th>metrics.recall</th>\n",
       "      <th>metrics.training_time</th>\n",
       "    </tr>\n",
       "  </thead>\n",
       "  <tbody>\n",
       "    <tr>\n",
       "      <th>0</th>\n",
       "      <td>01_SupervisedClassification</td>\n",
       "      <td>01_0_Structuring_CB</td>\n",
       "      <td>0b8f07fc470f489d9acc0b3654d13786</td>\n",
       "      <td>0</td>\n",
       "      <td>CB</td>\n",
       "      <td>0.744652</td>\n",
       "      <td>0.724857</td>\n",
       "      <td>0.771487</td>\n",
       "      <td>14.142575</td>\n",
       "    </tr>\n",
       "    <tr>\n",
       "      <th>1</th>\n",
       "      <td>01_SupervisedClassification</td>\n",
       "      <td>01_0_Structuring_MLP</td>\n",
       "      <td>16b0a173b86a4a62a0ee3dfa72d2d6d3</td>\n",
       "      <td>0</td>\n",
       "      <td>MLP</td>\n",
       "      <td>0.790611</td>\n",
       "      <td>0.816948</td>\n",
       "      <td>0.772066</td>\n",
       "      <td>49.499269</td>\n",
       "    </tr>\n",
       "    <tr>\n",
       "      <th>2</th>\n",
       "      <td>01_SupervisedClassification</td>\n",
       "      <td>Structuring</td>\n",
       "      <td>3c892352c2514694bd516df8342949b4</td>\n",
       "      <td>0</td>\n",
       "      <td>None</td>\n",
       "      <td>0.790611</td>\n",
       "      <td>0.816948</td>\n",
       "      <td>0.772066</td>\n",
       "      <td>NaN</td>\n",
       "    </tr>\n",
       "  </tbody>\n",
       "</table>\n",
       "</div>"
      ],
      "text/plain": [
       "               experiment_name   tags.mlflow.runName  \\\n",
       "0  01_SupervisedClassification   01_0_Structuring_CB   \n",
       "1  01_SupervisedClassification  01_0_Structuring_MLP   \n",
       "2  01_SupervisedClassification           Structuring   \n",
       "\n",
       "                             run_id experiment_id params.model_name  \\\n",
       "0  0b8f07fc470f489d9acc0b3654d13786             0                CB   \n",
       "1  16b0a173b86a4a62a0ee3dfa72d2d6d3             0               MLP   \n",
       "2  3c892352c2514694bd516df8342949b4             0              None   \n",
       "\n",
       "   metrics.f1  metrics.precision  metrics.recall  metrics.training_time  \n",
       "0    0.744652           0.724857        0.771487              14.142575  \n",
       "1    0.790611           0.816948        0.772066              49.499269  \n",
       "2    0.790611           0.816948        0.772066                    NaN  "
      ]
     },
     "execution_count": 3,
     "metadata": {},
     "output_type": "execute_result"
    }
   ],
   "source": [
    "columns_to_show = ['experiment_name', 'tags.mlflow.runName', 'run_id', 'experiment_id', 'params.model_name',\n",
    "                   'metrics.f1', 'metrics.precision', 'metrics.recall', 'metrics.training_time']\n",
    "\n",
    "(best_results\n",
    " .assign(experiment_name=lambda f: f['experiment_id'].apply(lambda id: mlflow_client.get_experiment(id).name))\n",
    " [columns_to_show] \n",
    " .head()\n",
    ")"
   ]
  },
  {
   "cell_type": "markdown",
   "metadata": {},
   "source": [
    "## Restauração de Experimentos\n",
    "\n",
    "A partir da escolha de uma execução individual, é possível restaurar os elementos utilizados na experimentação para aplicá-los aos dados."
   ]
  },
  {
   "cell_type": "code",
   "execution_count": 4,
   "metadata": {},
   "outputs": [
    {
     "data": {
      "text/html": [
       "<h4>Melhor resultado:</h4>"
      ],
      "text/plain": [
       "<IPython.core.display.HTML object>"
      ]
     },
     "metadata": {},
     "output_type": "display_data"
    },
    {
     "data": {
      "text/html": [
       "<li><strong>Run ID</strong>: 0b8f07fc470f489d9acc0b3654d13786</li>"
      ],
      "text/plain": [
       "<IPython.core.display.HTML object>"
      ]
     },
     "metadata": {},
     "output_type": "display_data"
    },
    {
     "data": {
      "text/html": [
       "<li><strong>Model Name</strong>: CB</li>"
      ],
      "text/plain": [
       "<IPython.core.display.HTML object>"
      ]
     },
     "metadata": {},
     "output_type": "display_data"
    },
    {
     "data": {
      "text/html": [
       "<li><strong>Average F1</strong>: 0.7446518806052547</li>"
      ],
      "text/plain": [
       "<IPython.core.display.HTML object>"
      ]
     },
     "metadata": {},
     "output_type": "display_data"
    },
    {
     "data": {
      "text/html": [
       "<li><strong>Average Precision</strong>: 0.7248565601782678</li>"
      ],
      "text/plain": [
       "<IPython.core.display.HTML object>"
      ]
     },
     "metadata": {},
     "output_type": "display_data"
    },
    {
     "data": {
      "text/html": [
       "<li><strong>Average Recall</strong>: 0.7714869129239269</li>"
      ],
      "text/plain": [
       "<IPython.core.display.HTML object>"
      ]
     },
     "metadata": {},
     "output_type": "display_data"
    }
   ],
   "source": [
    "# Restaura o experimento pelo maior valor de F1 Médio (entre as classes)\n",
    "best_experiments_results = mlflow.search_runs(experiment_ids=[EXPERIMENT_ID], max_results=100, order_by=['metrics.f1 DESC'], filter_string='attributes.status=\"FINISHED\"')\n",
    "best_experiment = (best_experiments_results\n",
    " .loc[lambda f: ~f['params.model_name'].isna()]\n",
    " .sort_values(by='metrics.f1', ascending=False)\n",
    " .drop_duplicates(['params.model_name'])\n",
    " .loc[lambda f: f['params.model_name'] == 'CB']\n",
    " .iloc[0]\n",
    ")\n",
    "\n",
    "# Recupera o ID do artefato para recuperar modelos e recursos persistidos para o experimento\n",
    "artifact_uri = best_experiment[\"artifact_uri\"]\n",
    "\n",
    "# Mostra as principais informações da execução\n",
    "display(HTML('<h4>Melhor resultado:</h4>'))\n",
    "for name, key in [('Run ID', 'run_id'),\n",
    "                  ('Model Name', 'params.model_name'),\n",
    "                  ('Average F1', 'metrics.f1'),\n",
    "                  ('Average Precision', 'metrics.precision'),\n",
    "                  ('Average Recall', 'metrics.recall'),\n",
    "                 ]:\n",
    "    display(HTML(f'<li><strong>{name}</strong>: {best_experiment[key]}</li>'))\n",
    "\n",
    "# Recupera o pacote de funções e parâmetros de pré-processamento dos dados\n",
    "preprocessing_model_path = os.path.join(best_experiment['artifact_uri']\n",
    "                                        .replace(best_experiment['run_id'],\n",
    "                                                 best_experiment['tags.mlflow.parentRunId']),\n",
    "                                        'log',\n",
    "                                        'preprocessing_model')\n",
    "preprocessing_model = mlflow.pyfunc.load_model(preprocessing_model_path)\n",
    "\n",
    "# Recupera o modelo treinado\n",
    "model = mlflow.sklearn.load_model(f'{artifact_uri}/model')\n",
    "\n",
    "# Recupera o Label Encoder, caso seja preciso avaliar o modelo\n",
    "label_encoder_path = os.path.join(best_experiment['artifact_uri'].replace(best_experiment['run_id'], best_experiment['tags.mlflow.parentRunId']), 'label_encoder')\n",
    "label_encoder_model = mlflow.sklearn.load_model(label_encoder_path)"
   ]
  },
  {
   "cell_type": "markdown",
   "metadata": {},
   "source": [
    "Para validar o funcionamento da restauração do modelo, parte dos dados de treinamento são recuperados para uma avaliação."
   ]
  },
  {
   "cell_type": "code",
   "execution_count": 5,
   "metadata": {},
   "outputs": [],
   "source": [
    "columns_to_read = ['title', 'concatenated_tags', 'price', 'weight', 'express_delivery', 'minimum_quantity', 'category', 'creation_date']\n",
    "frame = (pd\n",
    "         .read_csv(os.path.join(settings.DATA_PATH, 'interim', 'training.csv'), usecols=columns_to_read)\n",
    "         .head(5)         \n",
    "        )"
   ]
  },
  {
   "cell_type": "markdown",
   "metadata": {},
   "source": [
    "Tendo os dados, é possível reprocessar *labels*, *features* e fazer a inferência."
   ]
  },
  {
   "cell_type": "code",
   "execution_count": 6,
   "metadata": {},
   "outputs": [
    {
     "name": "stderr",
     "output_type": "stream",
     "text": [
      "Warning : `load_model` does not return WordVectorModel or SupervisedModel any more, but a `FastText` object which is very similar.\n"
     ]
    },
    {
     "data": {
      "text/html": [
       "\n",
       "                      <div style='display:block;float:left;padding:0 5px 0 0;text-align:center'>\n",
       "                         <h3>Dados Recuperados e Predição</h3><br />\n",
       "                         <table border=\"1\" class=\"dataframe\">\n",
       "  <thead>\n",
       "    <tr style=\"text-align: right;\">\n",
       "      <th></th>\n",
       "      <th>title</th>\n",
       "      <th>concatenated_tags</th>\n",
       "      <th>creation_date</th>\n",
       "      <th>price</th>\n",
       "      <th>weight</th>\n",
       "      <th>express_delivery</th>\n",
       "      <th>minimum_quantity</th>\n",
       "      <th>category</th>\n",
       "      <th>pred</th>\n",
       "      <th>label</th>\n",
       "    </tr>\n",
       "  </thead>\n",
       "  <tbody>\n",
       "    <tr>\n",
       "      <th>0</th>\n",
       "      <td>Mandala Espírito Santo</td>\n",
       "      <td>mandala mdf</td>\n",
       "      <td>2015-11-14 19:42:12</td>\n",
       "      <td>171.890000</td>\n",
       "      <td>1200.0</td>\n",
       "      <td>1</td>\n",
       "      <td>4</td>\n",
       "      <td>Decoração</td>\n",
       "      <td>2</td>\n",
       "      <td>2</td>\n",
       "    </tr>\n",
       "    <tr>\n",
       "      <th>1</th>\n",
       "      <td>Cartão de Visita</td>\n",
       "      <td>cartao visita panfletos tag adesivos copos long drink canecas</td>\n",
       "      <td>2018-04-04 20:55:07</td>\n",
       "      <td>77.670000</td>\n",
       "      <td>8.0</td>\n",
       "      <td>1</td>\n",
       "      <td>5</td>\n",
       "      <td>Papel e Cia</td>\n",
       "      <td>5</td>\n",
       "      <td>5</td>\n",
       "    </tr>\n",
       "    <tr>\n",
       "      <th>2</th>\n",
       "      <td>Jogo de Lençol Berço Estampado</td>\n",
       "      <td>t jogo lencol menino lencol berco</td>\n",
       "      <td>2017-02-27 13:26:03</td>\n",
       "      <td>118.770004</td>\n",
       "      <td>0.0</td>\n",
       "      <td>1</td>\n",
       "      <td>1</td>\n",
       "      <td>Bebê</td>\n",
       "      <td>0</td>\n",
       "      <td>0</td>\n",
       "    </tr>\n",
       "    <tr>\n",
       "      <th>3</th>\n",
       "      <td>ADESIVO BOX DE BANHEIRO</td>\n",
       "      <td>adesivo box banheiro</td>\n",
       "      <td>2017-05-09 13:18:38</td>\n",
       "      <td>191.810000</td>\n",
       "      <td>507.0</td>\n",
       "      <td>1</td>\n",
       "      <td>6</td>\n",
       "      <td>Decoração</td>\n",
       "      <td>2</td>\n",
       "      <td>2</td>\n",
       "    </tr>\n",
       "    <tr>\n",
       "      <th>4</th>\n",
       "      <td>Álbum de figurinhas dia dos pais</td>\n",
       "      <td>albuns figurinhas pai lucas album fotos</td>\n",
       "      <td>2018-07-11 10:41:33</td>\n",
       "      <td>49.970000</td>\n",
       "      <td>208.0</td>\n",
       "      <td>1</td>\n",
       "      <td>1</td>\n",
       "      <td>Lembrancinhas</td>\n",
       "      <td>5</td>\n",
       "      <td>3</td>\n",
       "    </tr>\n",
       "  </tbody>\n",
       "</table>\n",
       "                      </div>\n",
       "                    \n",
       "                      <div style='display:block;float:left;padding:0 5px 0 0;text-align:center'>\n",
       "                         <h3>Features (10 de 313)</h3><br />\n",
       "                         <table border=\"1\" class=\"dataframe\">\n",
       "  <thead>\n",
       "    <tr style=\"text-align: right;\">\n",
       "      <th></th>\n",
       "      <th>count</th>\n",
       "      <th>mean</th>\n",
       "      <th>std</th>\n",
       "      <th>min</th>\n",
       "      <th>25%</th>\n",
       "      <th>50%</th>\n",
       "      <th>75%</th>\n",
       "      <th>max</th>\n",
       "    </tr>\n",
       "  </thead>\n",
       "  <tbody>\n",
       "    <tr>\n",
       "      <th>0</th>\n",
       "      <td>5.0</td>\n",
       "      <td>-0.021762</td>\n",
       "      <td>0.015148</td>\n",
       "      <td>-0.045109</td>\n",
       "      <td>-0.027159</td>\n",
       "      <td>-0.018868</td>\n",
       "      <td>-0.009626</td>\n",
       "      <td>-0.008050</td>\n",
       "    </tr>\n",
       "    <tr>\n",
       "      <th>1</th>\n",
       "      <td>5.0</td>\n",
       "      <td>-0.026642</td>\n",
       "      <td>0.022966</td>\n",
       "      <td>-0.064399</td>\n",
       "      <td>-0.027053</td>\n",
       "      <td>-0.025398</td>\n",
       "      <td>-0.008805</td>\n",
       "      <td>-0.007556</td>\n",
       "    </tr>\n",
       "    <tr>\n",
       "      <th>2</th>\n",
       "      <td>5.0</td>\n",
       "      <td>0.040821</td>\n",
       "      <td>0.015756</td>\n",
       "      <td>0.017790</td>\n",
       "      <td>0.034957</td>\n",
       "      <td>0.041990</td>\n",
       "      <td>0.050078</td>\n",
       "      <td>0.059289</td>\n",
       "    </tr>\n",
       "    <tr>\n",
       "      <th>3</th>\n",
       "      <td>5.0</td>\n",
       "      <td>0.011463</td>\n",
       "      <td>0.039746</td>\n",
       "      <td>-0.028900</td>\n",
       "      <td>-0.021121</td>\n",
       "      <td>0.000627</td>\n",
       "      <td>0.052670</td>\n",
       "      <td>0.054038</td>\n",
       "    </tr>\n",
       "    <tr>\n",
       "      <th>4</th>\n",
       "      <td>5.0</td>\n",
       "      <td>-0.017058</td>\n",
       "      <td>0.024976</td>\n",
       "      <td>-0.058263</td>\n",
       "      <td>-0.017072</td>\n",
       "      <td>-0.010601</td>\n",
       "      <td>-0.008376</td>\n",
       "      <td>0.009024</td>\n",
       "    </tr>\n",
       "    <tr>\n",
       "      <th>5</th>\n",
       "      <td>5.0</td>\n",
       "      <td>-0.057656</td>\n",
       "      <td>0.027294</td>\n",
       "      <td>-0.087338</td>\n",
       "      <td>-0.075741</td>\n",
       "      <td>-0.057901</td>\n",
       "      <td>-0.051248</td>\n",
       "      <td>-0.016055</td>\n",
       "    </tr>\n",
       "    <tr>\n",
       "      <th>6</th>\n",
       "      <td>5.0</td>\n",
       "      <td>0.003555</td>\n",
       "      <td>0.049323</td>\n",
       "      <td>-0.054422</td>\n",
       "      <td>-0.011843</td>\n",
       "      <td>-0.004464</td>\n",
       "      <td>0.007132</td>\n",
       "      <td>0.081371</td>\n",
       "    </tr>\n",
       "    <tr>\n",
       "      <th>7</th>\n",
       "      <td>5.0</td>\n",
       "      <td>-0.016548</td>\n",
       "      <td>0.020432</td>\n",
       "      <td>-0.047024</td>\n",
       "      <td>-0.024877</td>\n",
       "      <td>-0.014244</td>\n",
       "      <td>0.001375</td>\n",
       "      <td>0.002031</td>\n",
       "    </tr>\n",
       "    <tr>\n",
       "      <th>8</th>\n",
       "      <td>5.0</td>\n",
       "      <td>-0.017772</td>\n",
       "      <td>0.037948</td>\n",
       "      <td>-0.084045</td>\n",
       "      <td>-0.011826</td>\n",
       "      <td>-0.006353</td>\n",
       "      <td>0.004872</td>\n",
       "      <td>0.008490</td>\n",
       "    </tr>\n",
       "    <tr>\n",
       "      <th>9</th>\n",
       "      <td>5.0</td>\n",
       "      <td>-0.051076</td>\n",
       "      <td>0.039352</td>\n",
       "      <td>-0.114914</td>\n",
       "      <td>-0.058637</td>\n",
       "      <td>-0.036975</td>\n",
       "      <td>-0.032951</td>\n",
       "      <td>-0.011903</td>\n",
       "    </tr>\n",
       "  </tbody>\n",
       "</table>\n",
       "                      </div>\n",
       "                    "
      ],
      "text/plain": [
       "<IPython.core.display.HTML object>"
      ]
     },
     "metadata": {},
     "output_type": "display_data"
    }
   ],
   "source": [
    "# Processa os dados para inferência\n",
    "features = preprocessing_model.predict(frame)\n",
    "\n",
    "# Realiza a inferência\n",
    "frame['pred'] = model.predict(features)\n",
    "\n",
    "# Codificar labels\n",
    "frame['label'] = label_encoder_model.transform(frame.category)\n",
    "\n",
    "display_side_by_side([frame, \n",
    "                      pd.DataFrame(features).describe().T.head(10)], \n",
    "                     ['Dados Recuperados e Predição', \n",
    "                      f'Features (10 de {features.shape[1]})'])"
   ]
  }
 ],
 "metadata": {
  "kernelspec": {
   "display_name": "Python 3",
   "language": "python",
   "name": "python3"
  },
  "language_info": {
   "codemirror_mode": {
    "name": "ipython",
    "version": 3
   },
   "file_extension": ".py",
   "mimetype": "text/x-python",
   "name": "python",
   "nbconvert_exporter": "python",
   "pygments_lexer": "ipython3",
   "version": "3.8.5"
  }
 },
 "nbformat": 4,
 "nbformat_minor": 4
}
