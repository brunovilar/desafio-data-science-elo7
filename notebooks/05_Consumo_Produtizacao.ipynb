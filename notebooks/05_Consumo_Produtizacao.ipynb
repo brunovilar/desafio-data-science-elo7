{
 "cells": [
  {
   "cell_type": "markdown",
   "id": "b0fae3ae-0639-492c-afc2-0b4e8eee66b1",
   "metadata": {},
   "source": [
    "# Integração e Uso dos Sistemas \"em Produção\"\n",
    "\n",
    "O objetivo deste notebook é documentar a utilização dos sistemas criados por meio de uma *Command Line Interface* criada no projeto. Com isso, tem-se a simulação de como o sistema seria fornecido para uso em ambiente de produção ambiente de produção.\n",
    "\n",
    "Os exemplos foram retirados dos primeiros itens que foram apresentados no [site](https://elo7.com) a partir da seleção da categoria. Para evitar um conteúdo excessivamente longo, apenas as primeiras *tags* dos produtos foram utilizadas.\n"
   ]
  },
  {
   "cell_type": "code",
   "execution_count": 1,
   "id": "09f1ecea-7630-4ba0-94b3-3e87f4228feb",
   "metadata": {},
   "outputs": [],
   "source": [
    "import json\n",
    "\n",
    "\n",
    "PYTHON_PATH = 'cd ..;../virtual_envs/teste_HT/bin/python '\n",
    "\n",
    "category_classification_tests = [\n",
    "    {\"title\":\"CARIMBO LOGOMARCA\", \n",
    "     \"concatenated_tags\": \"carimbo escola scrapbook decoupage carimbo para scrapbook carimbo incentivo\", \n",
    "     \"price\": 30},\n",
    "\n",
    "    {\"title\":\"Caneca Personalizada Madrinha/Padrinho\", \n",
    "     \"concatenated_tags\": \"caneca coruja caneca brinde caneca aniversário caneca personagens caneca infantil caneca dia dos namorados\", \n",
    "     \"price\": 9.70},\n",
    "\n",
    "    {\"title\":\"Pelego Fake Branco\", \n",
    "     \"concatenated_tags\": \"pelego pelego fake pelucia cadeira rose rosa milenium decor decoracao home office escritorio\", \n",
    "     \"price\": 39.90},\n",
    "\n",
    "    {\"title\":\"Kit Pulseiras Now United\", \n",
    "     \"concatenated_tags\": \"bijuterias bijuterias folheadas bijuterias delicadas bijus pulseira pulseira com pingentes pulseira delicada \", \n",
    "     \"price\": 19.70},\n",
    "\n",
    "    {\"title\":\"Wrap sling de algodão\", \n",
    "     \"concatenated_tags\": \"comprar wrap sling carregador de bebê canguru 100% algodão\", \n",
    "     \"price\": 58.90},\n",
    "\n",
    "    {\"title\":\"Sapateira Multiuso de Madeira P/ Porta Sala Quarto\", \n",
    "     \"concatenated_tags\": \"madeira sapatos sapateira porta sapatos tenis sapateira de sapateira de madeira multiuso de madeira pinus estante\", \n",
    "     \"price\": 64.99},\n",
    "]"
   ]
  },
  {
   "cell_type": "code",
   "execution_count": 2,
   "id": "c0b56ccc-3dea-4480-b751-645c4942e5c3",
   "metadata": {},
   "outputs": [
    {
     "name": "stdout",
     "output_type": "stream",
     "text": [
      "Test case 1: {'title': 'CARIMBO LOGOMARCA', 'concatenated_tags': 'carimbo escola scrapbook decoupage carimbo para scrapbook carimbo incentivo', 'price': 30}\n",
      "\n",
      "Output: Papel e Cia\n",
      "\n",
      "--------------------------------------------------\n",
      "\n",
      "Test case 2: {'title': 'Caneca Personalizada Madrinha/Padrinho', 'concatenated_tags': 'caneca coruja caneca brinde caneca aniversário caneca personagens caneca infantil caneca dia dos namorados', 'price': 9.7}\n",
      "\n",
      "Output: Lembrancinhas\n",
      "\n",
      "--------------------------------------------------\n",
      "\n",
      "Test case 3: {'title': 'Pelego Fake Branco', 'concatenated_tags': 'pelego pelego fake pelucia cadeira rose rosa milenium decor decoracao home office escritorio', 'price': 39.9}\n",
      "\n",
      "Output: Decoração\n",
      "\n",
      "--------------------------------------------------\n",
      "\n",
      "Test case 4: {'title': 'Kit Pulseiras Now United', 'concatenated_tags': 'bijuterias bijuterias folheadas bijuterias delicadas bijus pulseira pulseira com pingentes pulseira delicada ', 'price': 19.7}\n",
      "\n",
      "Output: Bijuterias e Jóias\n",
      "\n",
      "--------------------------------------------------\n",
      "\n",
      "Test case 5: {'title': 'Wrap sling de algodão', 'concatenated_tags': 'comprar wrap sling carregador de bebê canguru 100% algodão', 'price': 58.9}\n",
      "\n",
      "Output: Bebê\n",
      "\n",
      "--------------------------------------------------\n",
      "\n",
      "Test case 6: {'title': 'Sapateira Multiuso de Madeira P/ Porta Sala Quarto', 'concatenated_tags': 'madeira sapatos sapateira porta sapatos tenis sapateira de sapateira de madeira multiuso de madeira pinus estante', 'price': 64.99}\n",
      "\n",
      "Output: Decoração\n",
      "\n",
      "--------------------------------------------------\n",
      "\n"
     ]
    }
   ],
   "source": [
    "for ix, test_case in enumerate(category_classification_tests):\n",
    "    print(f'Test case {ix + 1}: {test_case}\\n')\n",
    "    # Send the test case content as a parameter for the CLI and store the result\n",
    "    cli_outputs = !{PYTHON_PATH} cli/teste_ds.py --category {\"\\'\" + json.dumps(test_case) + \"\\'\"}\n",
    "    # Show only the last printed output to suppress system messages and show a clean reponse\n",
    "    print(f'Output: {cli_outputs[-1]}\\n\\n{\"-\" * 50}\\n')"
   ]
  }
 ],
 "metadata": {
  "kernelspec": {
   "display_name": "Python 3",
   "language": "python",
   "name": "python3"
  },
  "language_info": {
   "codemirror_mode": {
    "name": "ipython",
    "version": 3
   },
   "file_extension": ".py",
   "mimetype": "text/x-python",
   "name": "python",
   "nbconvert_exporter": "python",
   "pygments_lexer": "ipython3",
   "version": "3.8.5"
  }
 },
 "nbformat": 4,
 "nbformat_minor": 5
}
